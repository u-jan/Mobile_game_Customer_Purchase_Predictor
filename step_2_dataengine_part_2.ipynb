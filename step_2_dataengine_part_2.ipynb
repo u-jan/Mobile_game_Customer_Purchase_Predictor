{
 "cells": [
  {
   "cell_type": "markdown",
   "metadata": {},
   "source": [
    "### Step 2.2: Data Engineering\n"
   ]
  },
  {
   "cell_type": "code",
   "execution_count": null,
   "metadata": {},
   "outputs": [],
   "source": [
    "import pandas as pd\n",
    "import numpy as np\n",
    "import matplotlib.pyplot as plt\n",
    "from sklearn.model_selection import train_test_split\n",
    "from sklearn import preprocessing\n",
    "import matplotlib.pyplot as plt \n",
    "plt.rc(\"font\", size=14)\n",
    "from sklearn.linear_model import LogisticRegression\n",
    "import seaborn as sns\n",
    "sns.set(style=\"white\")\n",
    "sns.set(style=\"whitegrid\", color_codes=True)"
   ]
  },
  {
   "cell_type": "markdown",
   "metadata": {},
   "source": [
    "Load the data to df, see its shape and columns."
   ]
  },
  {
   "cell_type": "code",
   "execution_count": 197,
   "metadata": {},
   "outputs": [],
   "source": [
    "df = pd.read_csv('data_the_babe/df_1m_secure.csv')"
   ]
  },
  {
   "cell_type": "code",
   "execution_count": 198,
   "metadata": {},
   "outputs": [
    {
     "data": {
      "text/plain": [
       "(963592, 22)"
      ]
     },
     "execution_count": 198,
     "metadata": {},
     "output_type": "execute_result"
    }
   ],
   "source": [
    "df.shape  "
   ]
  },
  {
   "cell_type": "code",
   "execution_count": 199,
   "metadata": {},
   "outputs": [
    {
     "data": {
      "text/plain": [
       "Index(['Unnamed: 0', 'Unnamed: 0.1', 'HCost', '_id', 'adOption', 'cohort',\n",
       "       'daysSinceInstall', 'hasEnoughCoin', 'hcl', 'levelMode', 'levelNumber',\n",
       "       'numFails', 'offerReason', 'percentageLeft', 'platform', 'playTime',\n",
       "       'playerId', 'result', 'segments', 'sessions', 'ts', 'twentileLeft'],\n",
       "      dtype='object')"
      ]
     },
     "execution_count": 199,
     "metadata": {},
     "output_type": "execute_result"
    }
   ],
   "source": [
    "df.columns"
   ]
  },
  {
   "cell_type": "markdown",
   "metadata": {},
   "source": [
    "First things first, hash ***playerId*** because trust is everything.\n",
    "\n",
    "- Created a function to hash input x\n",
    "- Ran the function on each row of df.playerid"
   ]
  },
  {
   "cell_type": "code",
   "execution_count": 200,
   "metadata": {},
   "outputs": [],
   "source": [
    "import hashlib\n",
    "\n",
    "def hash_id(x):\n",
    "    hash_object = hashlib.md5(x.encode())\n",
    "    return hash_object.hexdigest()\n",
    "    \n",
    "df['playerId'] = df['playerId'].map(hash_id)"
   ]
  },
  {
   "cell_type": "code",
   "execution_count": 201,
   "metadata": {},
   "outputs": [
    {
     "data": {
      "text/plain": [
       "5a03d0c989ac120f2bb5df5a40046657    976\n",
       "2ab3317d81139dda6b1dfc40ac39918c    578\n",
       "25338d146532a09ab0f8b2ecb6ae25e8    475\n",
       "f85e2c0ae4c8c96b0a60b8751c7798ef    402\n",
       "e03ccfac932729338ee5845d361a93d3    397\n",
       "Name: playerId, dtype: int64"
      ]
     },
     "execution_count": 201,
     "metadata": {},
     "output_type": "execute_result"
    }
   ],
   "source": [
    "df.playerId.value_counts().head()  # it worked, looks like hash lib assigns same hash to same strings."
   ]
  },
  {
   "cell_type": "markdown",
   "metadata": {},
   "source": [
    "Get rid of some of the useless columns."
   ]
  },
  {
   "cell_type": "code",
   "execution_count": 202,
   "metadata": {},
   "outputs": [],
   "source": [
    "df.drop(['Unnamed: 0'], axis = 1, inplace = True)"
   ]
  },
  {
   "cell_type": "code",
   "execution_count": 203,
   "metadata": {},
   "outputs": [],
   "source": [
    "df.drop(['twentileLeft'], axis=1, inplace = True)"
   ]
  },
  {
   "cell_type": "code",
   "execution_count": 204,
   "metadata": {},
   "outputs": [
    {
     "data": {
      "text/html": [
       "<div>\n",
       "<style>\n",
       "    .dataframe thead tr:only-child th {\n",
       "        text-align: right;\n",
       "    }\n",
       "\n",
       "    .dataframe thead th {\n",
       "        text-align: left;\n",
       "    }\n",
       "\n",
       "    .dataframe tbody tr th {\n",
       "        vertical-align: top;\n",
       "    }\n",
       "</style>\n",
       "<table border=\"1\" class=\"dataframe\">\n",
       "  <thead>\n",
       "    <tr style=\"text-align: right;\">\n",
       "      <th></th>\n",
       "      <th>Unnamed: 0.1</th>\n",
       "      <th>HCost</th>\n",
       "      <th>_id</th>\n",
       "      <th>adOption</th>\n",
       "      <th>cohort</th>\n",
       "      <th>daysSinceInstall</th>\n",
       "      <th>hasEnoughCoin</th>\n",
       "      <th>hcl</th>\n",
       "      <th>levelMode</th>\n",
       "      <th>levelNumber</th>\n",
       "      <th>numFails</th>\n",
       "      <th>offerReason</th>\n",
       "      <th>percentageLeft</th>\n",
       "      <th>platform</th>\n",
       "      <th>playTime</th>\n",
       "      <th>playerId</th>\n",
       "      <th>result</th>\n",
       "      <th>segments</th>\n",
       "      <th>sessions</th>\n",
       "      <th>ts</th>\n",
       "    </tr>\n",
       "  </thead>\n",
       "  <tbody>\n",
       "    <tr>\n",
       "      <th>0</th>\n",
       "      <td>0</td>\n",
       "      <td>4</td>\n",
       "      <td>{'$oid': '58c80b93c1a7ac04b0a08f3b'}</td>\n",
       "      <td>0</td>\n",
       "      <td>{'day': 424.0, 'week': 60.0}</td>\n",
       "      <td>10.0</td>\n",
       "      <td>1</td>\n",
       "      <td>{\"Casual\": 162, \"alternative_game_mode\": 65}</td>\n",
       "      <td>Casual</td>\n",
       "      <td>163</td>\n",
       "      <td>2</td>\n",
       "      <td>Percentage</td>\n",
       "      <td>0</td>\n",
       "      <td>IOS</td>\n",
       "      <td>19</td>\n",
       "      <td>8727ec8a1aef99afbbb9cddc5a889b44</td>\n",
       "      <td>reject</td>\n",
       "      <td>{'IAP': 'false', 'ISG_PBS_Price': 'Low', 'ISG_...</td>\n",
       "      <td>25</td>\n",
       "      <td>{'$date': {'$numberLong': '1489505171825'}}</td>\n",
       "    </tr>\n",
       "  </tbody>\n",
       "</table>\n",
       "</div>"
      ],
      "text/plain": [
       "   Unnamed: 0.1  HCost                                   _id  adOption  \\\n",
       "0             0      4  {'$oid': '58c80b93c1a7ac04b0a08f3b'}         0   \n",
       "\n",
       "                         cohort  daysSinceInstall  hasEnoughCoin  \\\n",
       "0  {'day': 424.0, 'week': 60.0}              10.0              1   \n",
       "\n",
       "                                            hcl levelMode  levelNumber  \\\n",
       "0  {\"Casual\": 162, \"alternative_game_mode\": 65}    Casual          163   \n",
       "\n",
       "   numFails offerReason  percentageLeft platform  playTime  \\\n",
       "0         2  Percentage               0      IOS        19   \n",
       "\n",
       "                           playerId  result  \\\n",
       "0  8727ec8a1aef99afbbb9cddc5a889b44  reject   \n",
       "\n",
       "                                            segments  sessions  \\\n",
       "0  {'IAP': 'false', 'ISG_PBS_Price': 'Low', 'ISG_...        25   \n",
       "\n",
       "                                            ts  \n",
       "0  {'$date': {'$numberLong': '1489505171825'}}  "
      ]
     },
     "execution_count": 204,
     "metadata": {},
     "output_type": "execute_result"
    }
   ],
   "source": [
    "df.head(1)"
   ]
  },
  {
   "cell_type": "markdown",
   "metadata": {},
   "source": [
    "Normally I would recommend to fill NA values with mean-median-min-max or something relevant. Luckyly in our case the proportion of nan values are so small that, dropping them will not negatively effect the future analisis."
   ]
  },
  {
   "cell_type": "markdown",
   "metadata": {},
   "source": [
    "***drops*** rows that include NA"
   ]
  },
  {
   "cell_type": "code",
   "execution_count": 205,
   "metadata": {},
   "outputs": [],
   "source": [
    "df = df.dropna()"
   ]
  },
  {
   "cell_type": "markdown",
   "metadata": {},
   "source": [
    "***Target*** (result)  I will be generating couple of targets for different senarios. Because I am not sure how to make more money for the company yet. In other words I need to see which senerio leads to most increase of revenue and which target receives most signal from features.\n",
    "\n",
    "- 1 consider adwatch and bough as win\n",
    "- Only consider bought as win\n",
    "- Only consider adwatch as win\n",
    "\n",
    "I recently do not know which target to focus on for best results. My assumption is that I shall focus merely on bought(coin spending) or merged target.\n",
    "\n"
   ]
  },
  {
   "cell_type": "code",
   "execution_count": 206,
   "metadata": {},
   "outputs": [
    {
     "data": {
      "text/plain": [
       "0    reject\n",
       "1    reject\n",
       "Name: result, dtype: object"
      ]
     },
     "execution_count": 206,
     "metadata": {},
     "output_type": "execute_result"
    }
   ],
   "source": [
    "df.result.head(2)"
   ]
  },
  {
   "cell_type": "code",
   "execution_count": 207,
   "metadata": {},
   "outputs": [],
   "source": [
    "df['target_both'] = (df.result == \"bought\") | (df.result == \"adWatch\")\n",
    "df['target_adwatch'] = (df.result == 'adWatch')\n",
    "df['target_bought'] = (df.result == 'bought')\n",
    "df.drop(['result'], axis = 1, inplace = True)"
   ]
  },
  {
   "cell_type": "code",
   "execution_count": 208,
   "metadata": {},
   "outputs": [
    {
     "data": {
      "text/plain": [
       "Index(['Unnamed: 0.1', 'HCost', '_id', 'adOption', 'cohort',\n",
       "       'daysSinceInstall', 'hasEnoughCoin', 'hcl', 'levelMode', 'levelNumber',\n",
       "       'numFails', 'offerReason', 'percentageLeft', 'platform', 'playTime',\n",
       "       'playerId', 'segments', 'sessions', 'ts', 'target_both',\n",
       "       'target_adwatch', 'target_bought'],\n",
       "      dtype='object')"
      ]
     },
     "execution_count": 208,
     "metadata": {},
     "output_type": "execute_result"
    }
   ],
   "source": [
    "df.columns"
   ]
  },
  {
   "cell_type": "markdown",
   "metadata": {},
   "source": [
    "***HCost***"
   ]
  },
  {
   "cell_type": "markdown",
   "metadata": {},
   "source": [
    "Following function creates hot dummy variables for hot features."
   ]
  },
  {
   "cell_type": "code",
   "execution_count": 209,
   "metadata": {},
   "outputs": [],
   "source": [
    "def one_hot_dummy(input_df, columns):\n",
    "    df_hot = input_df.copy()\n",
    "\n",
    "    for col in columns:\n",
    "        dummies = pd.get_dummies(df_hot[col])\n",
    "#         dummies.drop(dummies.columns[-1], axis=1, inplace=True)  --> not my tempo\n",
    "        df_hot = df_hot.drop(col, axis=1).merge(dummies, left_index=True, right_index=True)\n",
    "    \n",
    "    return df_hot"
   ]
  },
  {
   "cell_type": "code",
   "execution_count": 210,
   "metadata": {},
   "outputs": [],
   "source": [
    "df = one_hot_dummy(df,['HCost'])"
   ]
  },
  {
   "cell_type": "code",
   "execution_count": 211,
   "metadata": {},
   "outputs": [
    {
     "data": {
      "text/html": [
       "<div>\n",
       "<style>\n",
       "    .dataframe thead tr:only-child th {\n",
       "        text-align: right;\n",
       "    }\n",
       "\n",
       "    .dataframe thead th {\n",
       "        text-align: left;\n",
       "    }\n",
       "\n",
       "    .dataframe tbody tr th {\n",
       "        vertical-align: top;\n",
       "    }\n",
       "</style>\n",
       "<table border=\"1\" class=\"dataframe\">\n",
       "  <thead>\n",
       "    <tr style=\"text-align: right;\">\n",
       "      <th></th>\n",
       "      <th>Unnamed: 0.1</th>\n",
       "      <th>_id</th>\n",
       "      <th>adOption</th>\n",
       "      <th>cohort</th>\n",
       "      <th>daysSinceInstall</th>\n",
       "      <th>hasEnoughCoin</th>\n",
       "      <th>hcl</th>\n",
       "      <th>levelMode</th>\n",
       "      <th>levelNumber</th>\n",
       "      <th>numFails</th>\n",
       "      <th>...</th>\n",
       "      <th>playerId</th>\n",
       "      <th>segments</th>\n",
       "      <th>sessions</th>\n",
       "      <th>ts</th>\n",
       "      <th>target_both</th>\n",
       "      <th>target_adwatch</th>\n",
       "      <th>target_bought</th>\n",
       "      <th>4</th>\n",
       "      <th>5</th>\n",
       "      <th>6</th>\n",
       "    </tr>\n",
       "  </thead>\n",
       "  <tbody>\n",
       "    <tr>\n",
       "      <th>0</th>\n",
       "      <td>0</td>\n",
       "      <td>{'$oid': '58c80b93c1a7ac04b0a08f3b'}</td>\n",
       "      <td>0</td>\n",
       "      <td>{'day': 424.0, 'week': 60.0}</td>\n",
       "      <td>10.0</td>\n",
       "      <td>1</td>\n",
       "      <td>{\"Casual\": 162, \"alternative_game_mode\": 65}</td>\n",
       "      <td>Casual</td>\n",
       "      <td>163</td>\n",
       "      <td>2</td>\n",
       "      <td>...</td>\n",
       "      <td>8727ec8a1aef99afbbb9cddc5a889b44</td>\n",
       "      <td>{'IAP': 'false', 'ISG_PBS_Price': 'Low', 'ISG_...</td>\n",
       "      <td>25</td>\n",
       "      <td>{'$date': {'$numberLong': '1489505171825'}}</td>\n",
       "      <td>False</td>\n",
       "      <td>False</td>\n",
       "      <td>False</td>\n",
       "      <td>1</td>\n",
       "      <td>0</td>\n",
       "      <td>0</td>\n",
       "    </tr>\n",
       "  </tbody>\n",
       "</table>\n",
       "<p>1 rows × 24 columns</p>\n",
       "</div>"
      ],
      "text/plain": [
       "   Unnamed: 0.1                                   _id  adOption  \\\n",
       "0             0  {'$oid': '58c80b93c1a7ac04b0a08f3b'}         0   \n",
       "\n",
       "                         cohort  daysSinceInstall  hasEnoughCoin  \\\n",
       "0  {'day': 424.0, 'week': 60.0}              10.0              1   \n",
       "\n",
       "                                            hcl levelMode  levelNumber  \\\n",
       "0  {\"Casual\": 162, \"alternative_game_mode\": 65}    Casual          163   \n",
       "\n",
       "   numFails ...                          playerId  \\\n",
       "0         2 ...  8727ec8a1aef99afbbb9cddc5a889b44   \n",
       "\n",
       "                                            segments sessions  \\\n",
       "0  {'IAP': 'false', 'ISG_PBS_Price': 'Low', 'ISG_...       25   \n",
       "\n",
       "                                            ts target_both target_adwatch  \\\n",
       "0  {'$date': {'$numberLong': '1489505171825'}}       False          False   \n",
       "\n",
       "   target_bought  4  5  6  \n",
       "0          False  1  0  0  \n",
       "\n",
       "[1 rows x 24 columns]"
      ]
     },
     "execution_count": 211,
     "metadata": {},
     "output_type": "execute_result"
    }
   ],
   "source": [
    "df.head(1)"
   ]
  },
  {
   "cell_type": "markdown",
   "metadata": {},
   "source": [
    "***_id*** --> get rid of it"
   ]
  },
  {
   "cell_type": "code",
   "execution_count": 212,
   "metadata": {},
   "outputs": [],
   "source": [
    "df.drop(['_id'], axis = 1, inplace = True)"
   ]
  },
  {
   "cell_type": "markdown",
   "metadata": {},
   "source": [
    "***adOption***  --> bool, let it stay as bool"
   ]
  },
  {
   "cell_type": "markdown",
   "metadata": {},
   "source": [
    "***cohort*** --> set a range for every 10 weeks and, dummy them"
   ]
  },
  {
   "cell_type": "markdown",
   "metadata": {},
   "source": [
    "convert_str_to_dict: converts strings to dictionary by opening and loading them on json format."
   ]
  },
  {
   "cell_type": "code",
   "execution_count": 213,
   "metadata": {},
   "outputs": [],
   "source": [
    "#use this one with all dictionary columns at later stage\n",
    "import json\n",
    "\n",
    "def convert_str_to_dict(x):\n",
    "    json_acceptable_string = x.replace(\"'\", \"\\\"\")\n",
    "    d = json.loads(json_acceptable_string)\n",
    "    return d"
   ]
  },
  {
   "cell_type": "code",
   "execution_count": 214,
   "metadata": {},
   "outputs": [],
   "source": [
    "df['cohort'] = df['cohort'].map(convert_str_to_dict)"
   ]
  },
  {
   "cell_type": "code",
   "execution_count": 215,
   "metadata": {},
   "outputs": [
    {
     "data": {
      "text/plain": [
       "60.0"
      ]
     },
     "execution_count": 215,
     "metadata": {},
     "output_type": "execute_result"
    }
   ],
   "source": [
    "df['cohort'][0]['week']"
   ]
  },
  {
   "cell_type": "code",
   "execution_count": 216,
   "metadata": {},
   "outputs": [],
   "source": [
    "def weeks(x):\n",
    "    return x['week']\n",
    "\n",
    "df['cohort'] = df['cohort'].map(weeks)"
   ]
  },
  {
   "cell_type": "code",
   "execution_count": 217,
   "metadata": {},
   "outputs": [],
   "source": [
    "df[\"cohort\"] = df[\"cohort\"].astype(float)"
   ]
  },
  {
   "cell_type": "code",
   "execution_count": 218,
   "metadata": {},
   "outputs": [],
   "source": [
    "def week_group_cohort(x):\n",
    "\n",
    "    if x <= 10:\n",
    "        return 'w0'\n",
    "    elif 10 < x <= 20:\n",
    "        return 'w10'\n",
    "    elif  20 < x <= 30:\n",
    "        return 'w20'\n",
    "    elif  30 < x <= 40:\n",
    "        return 'w30'\n",
    "    elif  40 < x <= 50:\n",
    "        return 'w40'\n",
    "    elif  50 < x <= 60:\n",
    "        return 'w50'\n",
    "    else:\n",
    "        return 'w60'\n",
    "\n",
    "df['cohort'] = df['cohort'].map(week_group_cohort)\n",
    "        \n",
    "    "
   ]
  },
  {
   "cell_type": "code",
   "execution_count": 219,
   "metadata": {},
   "outputs": [],
   "source": [
    "df = one_hot_dummy(df,['cohort'])"
   ]
  },
  {
   "cell_type": "code",
   "execution_count": 220,
   "metadata": {},
   "outputs": [
    {
     "data": {
      "text/html": [
       "<div>\n",
       "<style>\n",
       "    .dataframe thead tr:only-child th {\n",
       "        text-align: right;\n",
       "    }\n",
       "\n",
       "    .dataframe thead th {\n",
       "        text-align: left;\n",
       "    }\n",
       "\n",
       "    .dataframe tbody tr th {\n",
       "        vertical-align: top;\n",
       "    }\n",
       "</style>\n",
       "<table border=\"1\" class=\"dataframe\">\n",
       "  <thead>\n",
       "    <tr style=\"text-align: right;\">\n",
       "      <th></th>\n",
       "      <th>Unnamed: 0.1</th>\n",
       "      <th>adOption</th>\n",
       "      <th>daysSinceInstall</th>\n",
       "      <th>hasEnoughCoin</th>\n",
       "      <th>hcl</th>\n",
       "      <th>levelMode</th>\n",
       "      <th>levelNumber</th>\n",
       "      <th>numFails</th>\n",
       "      <th>offerReason</th>\n",
       "      <th>percentageLeft</th>\n",
       "      <th>...</th>\n",
       "      <th>4</th>\n",
       "      <th>5</th>\n",
       "      <th>6</th>\n",
       "      <th>w0</th>\n",
       "      <th>w10</th>\n",
       "      <th>w20</th>\n",
       "      <th>w30</th>\n",
       "      <th>w40</th>\n",
       "      <th>w50</th>\n",
       "      <th>w60</th>\n",
       "    </tr>\n",
       "  </thead>\n",
       "  <tbody>\n",
       "    <tr>\n",
       "      <th>0</th>\n",
       "      <td>0</td>\n",
       "      <td>0</td>\n",
       "      <td>10.0</td>\n",
       "      <td>1</td>\n",
       "      <td>{\"Casual\": 162, \"alternative_game_mode\": 65}</td>\n",
       "      <td>Casual</td>\n",
       "      <td>163</td>\n",
       "      <td>2</td>\n",
       "      <td>Percentage</td>\n",
       "      <td>0</td>\n",
       "      <td>...</td>\n",
       "      <td>1</td>\n",
       "      <td>0</td>\n",
       "      <td>0</td>\n",
       "      <td>0</td>\n",
       "      <td>0</td>\n",
       "      <td>0</td>\n",
       "      <td>0</td>\n",
       "      <td>0</td>\n",
       "      <td>1</td>\n",
       "      <td>0</td>\n",
       "    </tr>\n",
       "  </tbody>\n",
       "</table>\n",
       "<p>1 rows × 29 columns</p>\n",
       "</div>"
      ],
      "text/plain": [
       "   Unnamed: 0.1  adOption  daysSinceInstall  hasEnoughCoin  \\\n",
       "0             0         0              10.0              1   \n",
       "\n",
       "                                            hcl levelMode  levelNumber  \\\n",
       "0  {\"Casual\": 162, \"alternative_game_mode\": 65}    Casual          163   \n",
       "\n",
       "   numFails offerReason  percentageLeft ...   4  5  6 w0  w10 w20  w30  w40  \\\n",
       "0         2  Percentage               0 ...   1  0  0  0    0   0    0    0   \n",
       "\n",
       "   w50  w60  \n",
       "0    1    0  \n",
       "\n",
       "[1 rows x 29 columns]"
      ]
     },
     "execution_count": 220,
     "metadata": {},
     "output_type": "execute_result"
    }
   ],
   "source": [
    "df.head(1)"
   ]
  },
  {
   "cell_type": "markdown",
   "metadata": {},
   "source": [
    "***daysSinceInstall*** --> does not give any signal so I passed this one."
   ]
  },
  {
   "cell_type": "code",
   "execution_count": 221,
   "metadata": {},
   "outputs": [
    {
     "data": {
      "text/plain": [
       "927732    458.0\n",
       "922612    457.0\n",
       "906681    457.0\n",
       "907975    457.0\n",
       "907611    457.0\n",
       "Name: daysSinceInstall, dtype: float64"
      ]
     },
     "execution_count": 221,
     "metadata": {},
     "output_type": "execute_result"
    }
   ],
   "source": [
    "df.daysSinceInstall.sort_values(ascending=False).head()"
   ]
  },
  {
   "cell_type": "markdown",
   "metadata": {},
   "source": [
    "***hasEnoughCoin*** --> bool, no work required.\n",
    "\n",
    "***Thoughts: ***I will create a completely new dataframe including people who do not have enough coin, because if a player do not have enoughcoin and still pays with ingamecurrency coins to proceed that mean the player bought coins with actual currency. "
   ]
  },
  {
   "cell_type": "markdown",
   "metadata": {},
   "source": [
    "***hcl*** --> answer \n",
    "\n",
    "(1)how many causal and alternative modes players played. \n",
    "\n",
    "(2) if they played highly alternate event based game modes(christmas, haloween etc.)"
   ]
  },
  {
   "cell_type": "code",
   "execution_count": 222,
   "metadata": {},
   "outputs": [],
   "source": [
    "df_test = df.copy()"
   ]
  },
  {
   "cell_type": "code",
   "execution_count": 223,
   "metadata": {},
   "outputs": [
    {
     "data": {
      "text/plain": [
       "Index([    'Unnamed: 0.1',         'adOption', 'daysSinceInstall',\n",
       "          'hasEnoughCoin',              'hcl',        'levelMode',\n",
       "            'levelNumber',         'numFails',      'offerReason',\n",
       "         'percentageLeft',         'platform',         'playTime',\n",
       "               'playerId',         'segments',         'sessions',\n",
       "                     'ts',      'target_both',   'target_adwatch',\n",
       "          'target_bought',                  4,                  5,\n",
       "                        6,               'w0',              'w10',\n",
       "                    'w20',              'w30',              'w40',\n",
       "                    'w50',              'w60'],\n",
       "      dtype='object')"
      ]
     },
     "execution_count": 223,
     "metadata": {},
     "output_type": "execute_result"
    }
   ],
   "source": [
    "df_test.columns"
   ]
  },
  {
   "cell_type": "code",
   "execution_count": 224,
   "metadata": {},
   "outputs": [],
   "source": [
    "df['hcl'] = df['hcl'].map(convert_str_to_dict)"
   ]
  },
  {
   "cell_type": "code",
   "execution_count": 225,
   "metadata": {},
   "outputs": [],
   "source": [
    "df['casual_mode'] = df['hcl']\n",
    "df['alternative_mode'] = df['hcl']\n",
    "df['event_mode'] = df['hcl']\n",
    "\n",
    "df.drop(['hcl'], axis = 1, inplace = True)"
   ]
  },
  {
   "cell_type": "code",
   "execution_count": 226,
   "metadata": {},
   "outputs": [
    {
     "data": {
      "text/plain": [
       "pandas.core.frame.DataFrame"
      ]
     },
     "execution_count": 226,
     "metadata": {},
     "output_type": "execute_result"
    }
   ],
   "source": [
    "type(df)"
   ]
  },
  {
   "cell_type": "code",
   "execution_count": 227,
   "metadata": {},
   "outputs": [],
   "source": [
    "def hcl_event_mode(x):\n",
    "    if len(x) > 2:\n",
    "        event_mode = 1\n",
    "    else:\n",
    "        event_mode = 0\n",
    "    \n",
    "    return event_mode\n",
    "\n",
    "def hcl_casual(x):\n",
    "    if 'Casual' in x:\n",
    "        return x['Casual']\n",
    "    else:\n",
    "        return 0\n",
    "\n",
    "def hcl_alternate(x):\n",
    "    if 'alternative_game_mode' in x:\n",
    "        return x['alternative_game_mode']\n",
    "    else:\n",
    "        return 0\n",
    "\n",
    "df['casual_mode'] = df['casual_mode'].map(hcl_casual)\n",
    "df['alternative_mode'] = df['alternative_mode'].map(hcl_alternate)\n",
    "df['event_mode'] = df['event_mode'].map(hcl_event_mode)"
   ]
  },
  {
   "cell_type": "markdown",
   "metadata": {},
   "source": [
    "***levelMode***"
   ]
  },
  {
   "cell_type": "code",
   "execution_count": 228,
   "metadata": {},
   "outputs": [],
   "source": [
    "def levelMode(x):\n",
    "    if x == 'Casual':\n",
    "        return 1\n",
    "    else:\n",
    "        return 0"
   ]
  },
  {
   "cell_type": "code",
   "execution_count": 229,
   "metadata": {},
   "outputs": [],
   "source": [
    "df.levelMode = df['levelMode'].map(levelMode)"
   ]
  },
  {
   "cell_type": "code",
   "execution_count": 230,
   "metadata": {},
   "outputs": [
    {
     "data": {
      "text/plain": [
       "array([1, 0])"
      ]
     },
     "execution_count": 230,
     "metadata": {},
     "output_type": "execute_result"
    }
   ],
   "source": [
    "df.levelMode.unique()"
   ]
  },
  {
   "cell_type": "markdown",
   "metadata": {},
   "source": [
    "***levelNumber,numFails*** --> keep it as it is, yet feel free to use sklearn's standardscaler later on"
   ]
  },
  {
   "cell_type": "markdown",
   "metadata": {},
   "source": [
    "***offerReason***"
   ]
  },
  {
   "cell_type": "code",
   "execution_count": 231,
   "metadata": {},
   "outputs": [
    {
     "data": {
      "text/plain": [
       "array(['Percentage', 'LevelTime', 'BoosterUsed'], dtype=object)"
      ]
     },
     "execution_count": 231,
     "metadata": {},
     "output_type": "execute_result"
    }
   ],
   "source": [
    "df.offerReason.unique()"
   ]
  },
  {
   "cell_type": "code",
   "execution_count": 232,
   "metadata": {},
   "outputs": [],
   "source": [
    "df = one_hot_dummy(df,['offerReason'])"
   ]
  },
  {
   "cell_type": "markdown",
   "metadata": {},
   "source": [
    "***platform***"
   ]
  },
  {
   "cell_type": "code",
   "execution_count": 233,
   "metadata": {},
   "outputs": [
    {
     "data": {
      "text/plain": [
       "array(['IOS', 'Android'], dtype=object)"
      ]
     },
     "execution_count": 233,
     "metadata": {},
     "output_type": "execute_result"
    }
   ],
   "source": [
    "df.platform.unique()"
   ]
  },
  {
   "cell_type": "code",
   "execution_count": 234,
   "metadata": {},
   "outputs": [],
   "source": [
    "def platform(x):\n",
    "    if x == 'IOS':\n",
    "        return 1\n",
    "    else:\n",
    "        return 0"
   ]
  },
  {
   "cell_type": "code",
   "execution_count": 235,
   "metadata": {},
   "outputs": [],
   "source": [
    "df.platform = df['platform'].map(platform)"
   ]
  },
  {
   "cell_type": "markdown",
   "metadata": {},
   "source": [
    "***segments***"
   ]
  },
  {
   "cell_type": "code",
   "execution_count": 236,
   "metadata": {},
   "outputs": [],
   "source": [
    "import json"
   ]
  },
  {
   "cell_type": "code",
   "execution_count": 237,
   "metadata": {},
   "outputs": [],
   "source": [
    "df.segments = df.segments.map(convert_str_to_dict)"
   ]
  },
  {
   "cell_type": "code",
   "execution_count": 238,
   "metadata": {},
   "outputs": [
    {
     "data": {
      "text/plain": [
       "{'Country': 'SA',\n",
       " 'IAP': 'false',\n",
       " 'ISG_EnergyRefill': 'Low',\n",
       " 'ISG_PBS_Price': 'Low',\n",
       " 'ISG_SaveMe_Max_Percentage': 'Mid',\n",
       " 'LanguageCode': 'en'}"
      ]
     },
     "execution_count": 238,
     "metadata": {},
     "output_type": "execute_result"
    }
   ],
   "source": [
    "df.segments[0]"
   ]
  },
  {
   "cell_type": "code",
   "execution_count": 239,
   "metadata": {},
   "outputs": [],
   "source": [
    "def segments_Country(x):\n",
    "    if 'Country' in x:\n",
    "        return x['Country']\n",
    "\n",
    "\n",
    "def segments_LanguageCode(x):\n",
    "    if 'LanguageCode' in x:\n",
    "        return x['LanguageCode']\n",
    "\n",
    "def segments_IAP(x):\n",
    "    if 'IAP' in x:\n",
    "        if x['IAP'] == 'false':\n",
    "            return False\n",
    "        else:\n",
    "            return True\n",
    "\n",
    "df['country'] = df['segments'].map(segments_Country)\n",
    "df['language'] = df['segments'].map(segments_LanguageCode)\n",
    "df['paid_before'] = df['segments'].map(segments_IAP)"
   ]
  },
  {
   "cell_type": "code",
   "execution_count": 240,
   "metadata": {},
   "outputs": [
    {
     "data": {
      "text/plain": [
       "False    941863\n",
       "True      21729\n",
       "Name: paid_before, dtype: int64"
      ]
     },
     "execution_count": 240,
     "metadata": {},
     "output_type": "execute_result"
    }
   ],
   "source": [
    "df.paid_before.value_counts()"
   ]
  },
  {
   "cell_type": "code",
   "execution_count": 241,
   "metadata": {},
   "outputs": [],
   "source": [
    "df.drop(['segments'], axis = 1, inplace = True)"
   ]
  },
  {
   "cell_type": "markdown",
   "metadata": {},
   "source": [
    "***Country***"
   ]
  },
  {
   "cell_type": "markdown",
   "metadata": {},
   "source": [
    "When I ran the country with dummy variables in a logistic regression model,the signal from most countries were weak. Thereby I decided to seperate countries based on avg disposable income tax per capita."
   ]
  },
  {
   "cell_type": "code",
   "execution_count": 261,
   "metadata": {},
   "outputs": [],
   "source": [
    "high_d_income = ['CH','MT','GL','AW','PF','AO','BS','NC','RE','BB','IS','FO','GD','MW','CI','BE','FR','FI','EU','SG','NL','AU','OM','DE','IL','SE','US','DK','ZA','CA','QA','GB','JP','KR','AT','IT','AE','AD','NZ']   #FIRST ~50 IN WORLD RANKING"
   ]
  },
  {
   "cell_type": "code",
   "execution_count": 262,
   "metadata": {},
   "outputs": [],
   "source": [
    "def disposable_income_class(x):\n",
    "    high_d_income = ['CH','MT','GL','LU','AW','PF','AO','BS','NC','RE','BB','IS','FO','GD','MW','CI','BE','FR','FI','EU','SG','NL','AU','OM','DE','IL','SE','US','DK','ZA','CA','QA','GB','JP','KR','AT','IT','AE','AD','NZ']   #FIRST ~50 IN WORLD RANKING\n",
    "#     other_d_income = ['RU','MR','GU','ZW','CR','HT','SC','BM','MV','MP','SV','GN','CW','HN','KN','GY','BZ','PY','JE','ET','GM','FM','SN','TZ','ME','GH','LA','MV','','AF','AS','MN','MO','PE','TT','GE','BO','CO','VE','JM','UG','UY','BA','EE','KZ','SY','GI','CZ','PA','DO','PR','CN','MY','PL','TM','MK','EC','VN','PT','MX','HR','MQ','KE','NG','GT','LK','SI','KH','MD','IN','DZ','CL','SD','NP','AZ','HK','KW','IR','BG','CY','PS','AP','BD','AR','PK','MU','BN','AL','AX','SK','JO','RO','LB','LT','SA','BR','TH','HU','MA','YE','TR','IQ','UA','ID','ES','IE','LV','TJ','RU','BH','TW','LY','TN','KG','AM','EG','PH','UZ','NO','BY','RS','GR'] \n",
    "    \n",
    "    if x in high_d_income:\n",
    "        return 1\n",
    "    else:\n",
    "        return 0\n",
    "\n",
    "df.country = df.country.map(disposable_income_class)"
   ]
  },
  {
   "cell_type": "code",
   "execution_count": 263,
   "metadata": {},
   "outputs": [],
   "source": [
    "# df = one_hot_dummy(df,['country'])"
   ]
  },
  {
   "cell_type": "code",
   "execution_count": 264,
   "metadata": {},
   "outputs": [],
   "source": [
    "df = one_hot_dummy(df,['language'])"
   ]
  },
  {
   "cell_type": "markdown",
   "metadata": {},
   "source": [
    "***sessions***"
   ]
  },
  {
   "cell_type": "code",
   "execution_count": 267,
   "metadata": {},
   "outputs": [
    {
     "data": {
      "text/plain": [
       "4057"
      ]
     },
     "execution_count": 267,
     "metadata": {},
     "output_type": "execute_result"
    }
   ],
   "source": [
    "max(df.sessions)"
   ]
  },
  {
   "cell_type": "code",
   "execution_count": 268,
   "metadata": {},
   "outputs": [
    {
     "data": {
      "text/plain": [
       "-99999"
      ]
     },
     "execution_count": 268,
     "metadata": {},
     "output_type": "execute_result"
    }
   ],
   "source": [
    "min(df.sessions)"
   ]
  },
  {
   "cell_type": "code",
   "execution_count": 269,
   "metadata": {},
   "outputs": [
    {
     "data": {
      "text/plain": [
       "0.0005998389359812037"
      ]
     },
     "execution_count": 269,
     "metadata": {},
     "output_type": "execute_result"
    }
   ],
   "source": [
    "(df.sessions < 0).sum() / len(df.sessions)"
   ]
  },
  {
   "cell_type": "code",
   "execution_count": 270,
   "metadata": {},
   "outputs": [],
   "source": [
    "def sessions(x):\n",
    "    if x < 0:\n",
    "        return 1\n",
    "    else:\n",
    "        return x"
   ]
  },
  {
   "cell_type": "code",
   "execution_count": 271,
   "metadata": {},
   "outputs": [],
   "source": [
    "df.sessions = df['sessions'].map(sessions)"
   ]
  },
  {
   "cell_type": "markdown",
   "metadata": {},
   "source": [
    "Save the dataframe."
   ]
  },
  {
   "cell_type": "code",
   "execution_count": 282,
   "metadata": {},
   "outputs": [],
   "source": [
    "df.to_csv('data_the_babe/df_1m_comp.csv')"
   ]
  },
  {
   "cell_type": "code",
   "execution_count": 283,
   "metadata": {},
   "outputs": [
    {
     "name": "stdout",
     "output_type": "stream",
     "text": [
      "Index([    'Unnamed: 0.1',         'adOption', 'daysSinceInstall',\n",
      "          'hasEnoughCoin',        'levelMode',      'levelNumber',\n",
      "               'numFails',   'percentageLeft',         'platform',\n",
      "               'playTime',         'playerId',         'sessions',\n",
      "            'target_both',   'target_adwatch',    'target_bought',\n",
      "                        4,                  5,                  6,\n",
      "                     'w0',              'w10',              'w20',\n",
      "                    'w30',              'w40',              'w50',\n",
      "                    'w60',      'casual_mode', 'alternative_mode',\n",
      "             'event_mode',      'BoosterUsed',        'LevelTime',\n",
      "             'Percentage',          'country',      'paid_before',\n",
      "                'Unknown',               'de',               'en',\n",
      "                     'es',               'fr',               'it',\n",
      "                  'pt-BR',               'ru',               'tr',\n",
      "                  'zh-CN'],\n",
      "      dtype='object')\n"
     ]
    }
   ],
   "source": [
    "print(df.columns)"
   ]
  }
 ],
 "metadata": {
  "kernelspec": {
   "display_name": "Python 3",
   "language": "python",
   "name": "python3"
  },
  "language_info": {
   "codemirror_mode": {
    "name": "ipython",
    "version": 3
   },
   "file_extension": ".py",
   "mimetype": "text/x-python",
   "name": "python",
   "nbconvert_exporter": "python",
   "pygments_lexer": "ipython3",
   "version": "3.6.3"
  }
 },
 "nbformat": 4,
 "nbformat_minor": 2
}
