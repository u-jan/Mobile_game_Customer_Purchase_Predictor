{
 "cells": [
  {
   "cell_type": "markdown",
   "metadata": {},
   "source": [
    "### STEP 1\n",
    "- Open & merge json files\n",
    "- Save them as pandas data frames\n",
    "- easy going notes about feature eng."
   ]
  },
  {
   "cell_type": "code",
   "execution_count": null,
   "metadata": {},
   "outputs": [],
   "source": [
    "import pandas as pd\n",
    "import numpy as np\n",
    "import json"
   ]
  },
  {
   "cell_type": "code",
   "execution_count": 36,
   "metadata": {},
   "outputs": [
    {
     "data": {
      "text/plain": [
       "'/Users/ucunel/galvanize_uj/capstone'"
      ]
     },
     "execution_count": 36,
     "metadata": {},
     "output_type": "execute_result"
    }
   ],
   "source": [
    "pwd"
   ]
  },
  {
   "cell_type": "markdown",
   "metadata": {},
   "source": [
    "Following code loads one of the json files to data as a list of dictionaries which containts 500 dictionaries which correspond to 500 savemeoffer data."
   ]
  },
  {
   "cell_type": "code",
   "execution_count": 15,
   "metadata": {},
   "outputs": [],
   "source": [
    "with open('data_the_babe/saveme_data/save_me_offer_logs_0.json') as saveme:\n",
    "    data = json.load(saveme)"
   ]
  },
  {
   "cell_type": "markdown",
   "metadata": {},
   "source": [
    "The following code will show us what data stands for."
   ]
  },
  {
   "cell_type": "code",
   "execution_count": 16,
   "metadata": {},
   "outputs": [
    {
     "name": "stdout",
     "output_type": "stream",
     "text": [
      "<class 'list'> \n",
      "\n",
      "500 \n",
      "\n",
      "{'_id': {'$oid': '58c80b93c1a7ac04b0a08f3b'}, 'offerReason': 'Percentage', 'percentageLeft': 0, 'twentileLeft': 0.0, 'hasEnoughCoin': 1, 'HCost': 4, 'adOption': 0, 'numFails': 2, 'playTime': 19, 'levelMode': 'Casual', 'levelNumber': 163, 'result': 'reject', 'ts': {'$date': {'$numberLong': '1489505171825'}}, 'playerId': '58bac635569af004b035b6cb', 'hcl': {'Casual': 162, 'Ninja': 65}, 'daysSinceInstall': 10.0, 'cohort': {'day': 424.0, 'week': 60.0}, 'sessions': 25.0, 'platform': 'IOS', 'segments': {'IAP': 'false', 'ISG_PBS_Price': 'Low', 'ISG_SaveMe_Max_Percentage': 'Mid', 'ISG_EnergyRefill': 'Low', 'Country': 'SA', 'LanguageCode': 'en'}} \n",
      "\n",
      "<class 'dict'> \n",
      "\n",
      "20 \n",
      "\n"
     ]
    }
   ],
   "source": [
    "print(type(data),'\\n')\n",
    "print(len(data),'\\n')\n",
    "print(data[0],'\\n')\n",
    "print(type(data[0]),'\\n')\n",
    "print(len(data[0]),'\\n')"
   ]
  },
  {
   "cell_type": "markdown",
   "metadata": {},
   "source": [
    "Now let us load one of the json files to a dataframe to see every column one by one in another setting."
   ]
  },
  {
   "cell_type": "code",
   "execution_count": 19,
   "metadata": {},
   "outputs": [],
   "source": [
    "df = pd.read_json('data_the_babe/saveme_data/save_me_offer_logs_1.json')"
   ]
  },
  {
   "cell_type": "code",
   "execution_count": 20,
   "metadata": {},
   "outputs": [
    {
     "data": {
      "text/html": [
       "<div>\n",
       "<style>\n",
       "    .dataframe thead tr:only-child th {\n",
       "        text-align: right;\n",
       "    }\n",
       "\n",
       "    .dataframe thead th {\n",
       "        text-align: left;\n",
       "    }\n",
       "\n",
       "    .dataframe tbody tr th {\n",
       "        vertical-align: top;\n",
       "    }\n",
       "</style>\n",
       "<table border=\"1\" class=\"dataframe\">\n",
       "  <thead>\n",
       "    <tr style=\"text-align: right;\">\n",
       "      <th></th>\n",
       "      <th>HCost</th>\n",
       "      <th>_id</th>\n",
       "      <th>adOption</th>\n",
       "      <th>cohort</th>\n",
       "      <th>daysSinceInstall</th>\n",
       "      <th>hasEnoughCoin</th>\n",
       "      <th>hcl</th>\n",
       "      <th>levelMode</th>\n",
       "      <th>levelNumber</th>\n",
       "      <th>numFails</th>\n",
       "      <th>offerReason</th>\n",
       "      <th>percentageLeft</th>\n",
       "      <th>platform</th>\n",
       "      <th>playTime</th>\n",
       "      <th>playerId</th>\n",
       "      <th>result</th>\n",
       "      <th>segments</th>\n",
       "      <th>sessions</th>\n",
       "      <th>ts</th>\n",
       "      <th>twentileLeft</th>\n",
       "    </tr>\n",
       "  </thead>\n",
       "  <tbody>\n",
       "    <tr>\n",
       "      <th>0</th>\n",
       "      <td>4</td>\n",
       "      <td>{'$oid': '58c80e1e569af004b7b702b6'}</td>\n",
       "      <td>0</td>\n",
       "      <td>{'day': 418.0, 'week': 59.0}</td>\n",
       "      <td>16</td>\n",
       "      <td>1</td>\n",
       "      <td>{'Casual': 242, 'Ninja': 200}</td>\n",
       "      <td>Casual</td>\n",
       "      <td>243</td>\n",
       "      <td>11</td>\n",
       "      <td>Percentage</td>\n",
       "      <td>4</td>\n",
       "      <td>IOS</td>\n",
       "      <td>44</td>\n",
       "      <td>58b280280670c304b0413aed</td>\n",
       "      <td>reject</td>\n",
       "      <td>{'IAP': 'false', 'ISG_PBS_Price': 'Low', 'ISG_...</td>\n",
       "      <td>59</td>\n",
       "      <td>{'$date': {'$numberLong': '1489505822730'}}</td>\n",
       "      <td>0</td>\n",
       "    </tr>\n",
       "    <tr>\n",
       "      <th>1</th>\n",
       "      <td>6</td>\n",
       "      <td>{'$oid': '58c80e20569af004b7b70d1b'}</td>\n",
       "      <td>0</td>\n",
       "      <td>{'day': 414.0, 'week': 59.0}</td>\n",
       "      <td>20</td>\n",
       "      <td>1</td>\n",
       "      <td>{'Casual': 228, 'Ninja': 65}</td>\n",
       "      <td>Casual</td>\n",
       "      <td>229</td>\n",
       "      <td>1</td>\n",
       "      <td>Percentage</td>\n",
       "      <td>6</td>\n",
       "      <td>Android</td>\n",
       "      <td>78</td>\n",
       "      <td>58ad91bac1a7ac04b1d6a55b</td>\n",
       "      <td>reject</td>\n",
       "      <td>{'IAP': 'false', 'ISG_PBS_Price': 'High', 'ISG...</td>\n",
       "      <td>41</td>\n",
       "      <td>{'$date': {'$numberLong': '1489505824124'}}</td>\n",
       "      <td>1</td>\n",
       "    </tr>\n",
       "  </tbody>\n",
       "</table>\n",
       "</div>"
      ],
      "text/plain": [
       "   HCost                                   _id  adOption  \\\n",
       "0      4  {'$oid': '58c80e1e569af004b7b702b6'}         0   \n",
       "1      6  {'$oid': '58c80e20569af004b7b70d1b'}         0   \n",
       "\n",
       "                         cohort  daysSinceInstall  hasEnoughCoin  \\\n",
       "0  {'day': 418.0, 'week': 59.0}                16              1   \n",
       "1  {'day': 414.0, 'week': 59.0}                20              1   \n",
       "\n",
       "                             hcl levelMode  levelNumber  numFails offerReason  \\\n",
       "0  {'Casual': 242, 'Ninja': 200}    Casual          243        11  Percentage   \n",
       "1   {'Casual': 228, 'Ninja': 65}    Casual          229         1  Percentage   \n",
       "\n",
       "   percentageLeft platform  playTime                  playerId  result  \\\n",
       "0               4      IOS        44  58b280280670c304b0413aed  reject   \n",
       "1               6  Android        78  58ad91bac1a7ac04b1d6a55b  reject   \n",
       "\n",
       "                                            segments  sessions  \\\n",
       "0  {'IAP': 'false', 'ISG_PBS_Price': 'Low', 'ISG_...        59   \n",
       "1  {'IAP': 'false', 'ISG_PBS_Price': 'High', 'ISG...        41   \n",
       "\n",
       "                                            ts  twentileLeft  \n",
       "0  {'$date': {'$numberLong': '1489505822730'}}             0  \n",
       "1  {'$date': {'$numberLong': '1489505824124'}}             1  "
      ]
     },
     "execution_count": 20,
     "metadata": {},
     "output_type": "execute_result"
    }
   ],
   "source": [
    "df.head(2)"
   ]
  },
  {
   "cell_type": "code",
   "execution_count": 21,
   "metadata": {},
   "outputs": [
    {
     "data": {
      "text/plain": [
       "Index(['HCost', '_id', 'adOption', 'cohort', 'daysSinceInstall',\n",
       "       'hasEnoughCoin', 'hcl', 'levelMode', 'levelNumber', 'numFails',\n",
       "       'offerReason', 'percentageLeft', 'platform', 'playTime', 'playerId',\n",
       "       'result', 'segments', 'sessions', 'ts', 'twentileLeft'],\n",
       "      dtype='object')"
      ]
     },
     "execution_count": 21,
     "metadata": {},
     "output_type": "execute_result"
    }
   ],
   "source": [
    "df.columns"
   ]
  },
  {
   "cell_type": "code",
   "execution_count": 22,
   "metadata": {},
   "outputs": [
    {
     "data": {
      "text/plain": [
       "20"
      ]
     },
     "execution_count": 22,
     "metadata": {},
     "output_type": "execute_result"
    }
   ],
   "source": [
    "len(df.columns)"
   ]
  },
  {
   "cell_type": "markdown",
   "metadata": {},
   "source": [
    "Just wana see them vertically, because why not."
   ]
  },
  {
   "cell_type": "code",
   "execution_count": 23,
   "metadata": {},
   "outputs": [
    {
     "name": "stdout",
     "output_type": "stream",
     "text": [
      "column:   HCost\n",
      "0    4\n",
      "1    6\n",
      "Name: HCost, dtype: int64\n",
      "----------------------------------------\n",
      "column:   _id\n",
      "0    {'$oid': '58c80e1e569af004b7b702b6'}\n",
      "1    {'$oid': '58c80e20569af004b7b70d1b'}\n",
      "Name: _id, dtype: object\n",
      "----------------------------------------\n",
      "column:   adOption\n",
      "0    0\n",
      "1    0\n",
      "Name: adOption, dtype: int64\n",
      "----------------------------------------\n",
      "column:   cohort\n",
      "0    {'day': 418.0, 'week': 59.0}\n",
      "1    {'day': 414.0, 'week': 59.0}\n",
      "Name: cohort, dtype: object\n",
      "----------------------------------------\n",
      "column:   daysSinceInstall\n",
      "0    16\n",
      "1    20\n",
      "Name: daysSinceInstall, dtype: int64\n",
      "----------------------------------------\n",
      "column:   hasEnoughCoin\n",
      "0    1\n",
      "1    1\n",
      "Name: hasEnoughCoin, dtype: int64\n",
      "----------------------------------------\n",
      "column:   hcl\n",
      "0    {'Casual': 242, 'Ninja': 200}\n",
      "1     {'Casual': 228, 'Ninja': 65}\n",
      "Name: hcl, dtype: object\n",
      "----------------------------------------\n",
      "column:   levelMode\n",
      "0    Casual\n",
      "1    Casual\n",
      "Name: levelMode, dtype: object\n",
      "----------------------------------------\n",
      "column:   levelNumber\n",
      "0    243\n",
      "1    229\n",
      "Name: levelNumber, dtype: int64\n",
      "----------------------------------------\n",
      "column:   numFails\n",
      "0    11\n",
      "1     1\n",
      "Name: numFails, dtype: int64\n",
      "----------------------------------------\n",
      "column:   offerReason\n",
      "0    Percentage\n",
      "1    Percentage\n",
      "Name: offerReason, dtype: object\n",
      "----------------------------------------\n",
      "column:   percentageLeft\n",
      "0    4\n",
      "1    6\n",
      "Name: percentageLeft, dtype: int64\n",
      "----------------------------------------\n",
      "column:   platform\n",
      "0        IOS\n",
      "1    Android\n",
      "Name: platform, dtype: object\n",
      "----------------------------------------\n",
      "column:   playTime\n",
      "0    44\n",
      "1    78\n",
      "Name: playTime, dtype: int64\n",
      "----------------------------------------\n",
      "column:   playerId\n",
      "0    58b280280670c304b0413aed\n",
      "1    58ad91bac1a7ac04b1d6a55b\n",
      "Name: playerId, dtype: object\n",
      "----------------------------------------\n",
      "column:   result\n",
      "0    reject\n",
      "1    reject\n",
      "Name: result, dtype: object\n",
      "----------------------------------------\n",
      "column:   segments\n",
      "0    {'IAP': 'false', 'ISG_PBS_Price': 'Low', 'ISG_...\n",
      "1    {'IAP': 'false', 'ISG_PBS_Price': 'High', 'ISG...\n",
      "Name: segments, dtype: object\n",
      "----------------------------------------\n",
      "column:   sessions\n",
      "0    59\n",
      "1    41\n",
      "Name: sessions, dtype: int64\n",
      "----------------------------------------\n",
      "column:   ts\n",
      "0    {'$date': {'$numberLong': '1489505822730'}}\n",
      "1    {'$date': {'$numberLong': '1489505824124'}}\n",
      "Name: ts, dtype: object\n",
      "----------------------------------------\n",
      "column:   twentileLeft\n",
      "0    0\n",
      "1    1\n",
      "Name: twentileLeft, dtype: int64\n",
      "----------------------------------------\n"
     ]
    }
   ],
   "source": [
    "for column in df.columns:\n",
    "    print(f'column:   {column}')\n",
    "    cal = str(column)\n",
    "    print(df[cal].head(2))\n",
    "    print('----------------------------------------')\n",
    "#     print(df[f'[{column}]'].head())"
   ]
  },
  {
   "cell_type": "markdown",
   "metadata": {},
   "source": [
    "***Feature Engineering Analisis:***  --> expectations from feature engineering phase.\n",
    "- Looks like we have a lot of object type columns, such as following: _id , cohort , hcl , levelMode , offerReason, percentageLeft , playerId , result , segments , ts\n",
    "- In addition some columns have dictionaries as data, such as following: ts, segments, hcl , cohort, _id\n",
    "- ***IMPORTANT REMINDER*** --> You keep your promise about confidentiallity. In other words find a way to hash those  ***playerId*** data \n",
    "\n",
    "\n",
    "Alright we have 500 data points per json file which can be converted to a list or a data frame. However 500 datapoints will not be enough for a comprehensive analisis.\n",
    "\n",
    "Therefore I need to find a way to merge almost 2000 json files which will ultimately saved in a single data frame. (~2000 * 500 many of records).\n",
    "\n",
    "To begin with I will simply merge 2 json files. Then, my next goal is to write a while or for loop to merge multiple tables.\n",
    "\n",
    "Also I will create my initial model within 10k data points instead of the whole 1 million datapoints. \n",
    "\n",
    "Lets go and merge these files."
   ]
  },
  {
   "cell_type": "markdown",
   "metadata": {},
   "source": [
    "***Merging json files within a dataframe***\n",
    "\n",
    "Strategy_1 Tryout for merging 2 json files -- > load both json files in seperate dataframes and concatinate them."
   ]
  },
  {
   "cell_type": "code",
   "execution_count": 25,
   "metadata": {},
   "outputs": [],
   "source": [
    "#reminder, with df = pd.read_json('saveme_data/save_me_offer_logs_0.json') we loaded 0th json file to df.\n",
    "df_j0 = df\n",
    "df_j1 = pd.read_json('data_the_babe/saveme_data/save_me_offer_logs_1.json')"
   ]
  },
  {
   "cell_type": "code",
   "execution_count": 26,
   "metadata": {},
   "outputs": [],
   "source": [
    "frames = [df_j0,df_j1]\n",
    "concated_first_2 =  pd.concat(frames)"
   ]
  },
  {
   "cell_type": "code",
   "execution_count": 27,
   "metadata": {},
   "outputs": [
    {
     "data": {
      "text/plain": [
       "(500, 20)"
      ]
     },
     "execution_count": 27,
     "metadata": {},
     "output_type": "execute_result"
    }
   ],
   "source": [
    "df_j0.shape"
   ]
  },
  {
   "cell_type": "code",
   "execution_count": 28,
   "metadata": {},
   "outputs": [
    {
     "data": {
      "text/plain": [
       "(1000, 20)"
      ]
     },
     "execution_count": 28,
     "metadata": {},
     "output_type": "execute_result"
    }
   ],
   "source": [
    "concated_first_2.shape"
   ]
  },
  {
   "cell_type": "markdown",
   "metadata": {},
   "source": [
    "Upon checking both shape and tails of merged data frames and concated_first_2, I confirm that concat was succesful and the first strategy worked well for 2 dfs.\n",
    "\n",
    "\n",
    "Now let us merge multiple data frames which will let us have 10000 data points. ( 10000 / 500 = 20 json files)\n",
    "\n",
    "Following code creates an empty list in order to store converted dataframes. Ultimately every dataframe in the list will be concated."
   ]
  },
  {
   "cell_type": "code",
   "execution_count": 73,
   "metadata": {},
   "outputs": [],
   "source": [
    "frames_to_concat = []\n",
    "for i in range(0, 20):  # 1 + 19 data json files\n",
    "    frames_to_concat.append(pd.read_json(f'saveme_data/save_me_offer_logs_{str(i)}.json'))\n",
    "\n",
    "df_10k = pd.concat(frames_to_concat)"
   ]
  },
  {
   "cell_type": "code",
   "execution_count": 76,
   "metadata": {},
   "outputs": [
    {
     "data": {
      "text/plain": [
       "(10000, 20)"
      ]
     },
     "execution_count": 76,
     "metadata": {},
     "output_type": "execute_result"
    }
   ],
   "source": [
    "df_10k.shape"
   ]
  },
  {
   "cell_type": "markdown",
   "metadata": {},
   "source": [
    "***Note:*** At one point remember using dynomodb so you can playwith greater datasets."
   ]
  },
  {
   "cell_type": "code",
   "execution_count": 84,
   "metadata": {},
   "outputs": [
    {
     "data": {
      "text/html": [
       "<div>\n",
       "<style>\n",
       "    .dataframe thead tr:only-child th {\n",
       "        text-align: right;\n",
       "    }\n",
       "\n",
       "    .dataframe thead th {\n",
       "        text-align: left;\n",
       "    }\n",
       "\n",
       "    .dataframe tbody tr th {\n",
       "        vertical-align: top;\n",
       "    }\n",
       "</style>\n",
       "<table border=\"1\" class=\"dataframe\">\n",
       "  <thead>\n",
       "    <tr style=\"text-align: right;\">\n",
       "      <th></th>\n",
       "      <th>HCost</th>\n",
       "      <th>_id</th>\n",
       "      <th>adOption</th>\n",
       "      <th>cohort</th>\n",
       "      <th>daysSinceInstall</th>\n",
       "      <th>hasEnoughCoin</th>\n",
       "      <th>hcl</th>\n",
       "      <th>levelMode</th>\n",
       "      <th>levelNumber</th>\n",
       "      <th>numFails</th>\n",
       "      <th>offerReason</th>\n",
       "      <th>percentageLeft</th>\n",
       "      <th>platform</th>\n",
       "      <th>playTime</th>\n",
       "      <th>playerId</th>\n",
       "      <th>result</th>\n",
       "      <th>segments</th>\n",
       "      <th>sessions</th>\n",
       "      <th>ts</th>\n",
       "      <th>twentileLeft</th>\n",
       "    </tr>\n",
       "  </thead>\n",
       "  <tbody>\n",
       "    <tr>\n",
       "      <th>9995</th>\n",
       "      <td>5</td>\n",
       "      <td>{'$oid': '58c83a27c1a7ac04b07f389c'}</td>\n",
       "      <td>0</td>\n",
       "      <td>{'day': 433.0, 'week': 61.0}</td>\n",
       "      <td>1.0</td>\n",
       "      <td>0</td>\n",
       "      <td>{'Casual': 40, 'Ninja': 3}</td>\n",
       "      <td>Ninja</td>\n",
       "      <td>4</td>\n",
       "      <td>1</td>\n",
       "      <td>Percentage</td>\n",
       "      <td>6</td>\n",
       "      <td>IOS</td>\n",
       "      <td>15</td>\n",
       "      <td>58c6978829b38504b5d51c40</td>\n",
       "      <td>reject</td>\n",
       "      <td>{'IAP': 'false', 'ISG_PBS_Price': 'Normal', 'I...</td>\n",
       "      <td>18</td>\n",
       "      <td>{'$date': {'$numberLong': '1489517095206'}}</td>\n",
       "      <td>1</td>\n",
       "    </tr>\n",
       "    <tr>\n",
       "      <th>9996</th>\n",
       "      <td>6</td>\n",
       "      <td>{'$oid': '58c83a27569af004b7768190'}</td>\n",
       "      <td>0</td>\n",
       "      <td>{'day': 325.0, 'week': 46.0}</td>\n",
       "      <td>109.0</td>\n",
       "      <td>1</td>\n",
       "      <td>{'Casual': 158, 'Ninja': 11}</td>\n",
       "      <td>Casual</td>\n",
       "      <td>159</td>\n",
       "      <td>4</td>\n",
       "      <td>Percentage</td>\n",
       "      <td>4</td>\n",
       "      <td>IOS</td>\n",
       "      <td>34</td>\n",
       "      <td>583808ffbb89a50524b0c7da</td>\n",
       "      <td>reject</td>\n",
       "      <td>{'IAP': 'false', 'ISG_PBS_Price': 'High', 'ISG...</td>\n",
       "      <td>139</td>\n",
       "      <td>{'$date': {'$numberLong': '1489517095543'}}</td>\n",
       "      <td>0</td>\n",
       "    </tr>\n",
       "    <tr>\n",
       "      <th>9997</th>\n",
       "      <td>5</td>\n",
       "      <td>{'$oid': '58c83a27c1a7ac04b07f47ac'}</td>\n",
       "      <td>0</td>\n",
       "      <td>{'day': 434.0, 'week': 62.0}</td>\n",
       "      <td>0.0</td>\n",
       "      <td>1</td>\n",
       "      <td>{'Casual': 18}</td>\n",
       "      <td>Casual</td>\n",
       "      <td>19</td>\n",
       "      <td>1</td>\n",
       "      <td>Percentage</td>\n",
       "      <td>10</td>\n",
       "      <td>IOS</td>\n",
       "      <td>17</td>\n",
       "      <td>58c7de3e0759d804b24702f6</td>\n",
       "      <td>reject</td>\n",
       "      <td>{'IAP': 'false', 'ISG_PBS_Price': 'Normal', 'I...</td>\n",
       "      <td>3</td>\n",
       "      <td>{'$date': {'$numberLong': '1489517095899'}}</td>\n",
       "      <td>2</td>\n",
       "    </tr>\n",
       "    <tr>\n",
       "      <th>9998</th>\n",
       "      <td>5</td>\n",
       "      <td>{'$oid': '58c83a2a569af004b7768c13'}</td>\n",
       "      <td>0</td>\n",
       "      <td>{'day': 434.0, 'week': 62.0}</td>\n",
       "      <td>0.0</td>\n",
       "      <td>1</td>\n",
       "      <td>{'Casual': 12}</td>\n",
       "      <td>Casual</td>\n",
       "      <td>13</td>\n",
       "      <td>2</td>\n",
       "      <td>Percentage</td>\n",
       "      <td>7</td>\n",
       "      <td>Android</td>\n",
       "      <td>18</td>\n",
       "      <td>58c8376c569af004b76979d6</td>\n",
       "      <td>reject</td>\n",
       "      <td>{'IAP': 'false', 'ISG_PBS_Price': 'Normal', 'I...</td>\n",
       "      <td>1</td>\n",
       "      <td>{'$date': {'$numberLong': '1489517098049'}}</td>\n",
       "      <td>1</td>\n",
       "    </tr>\n",
       "    <tr>\n",
       "      <th>9999</th>\n",
       "      <td>5</td>\n",
       "      <td>{'$oid': '58c83a2d0759d804b2f444ae'}</td>\n",
       "      <td>0</td>\n",
       "      <td>{'day': 177.0, 'week': 25.0}</td>\n",
       "      <td>257.0</td>\n",
       "      <td>0</td>\n",
       "      <td>{'Casual': 109, 'Ninja': 2}</td>\n",
       "      <td>Casual</td>\n",
       "      <td>110</td>\n",
       "      <td>2</td>\n",
       "      <td>LevelTime</td>\n",
       "      <td>14</td>\n",
       "      <td>IOS</td>\n",
       "      <td>39</td>\n",
       "      <td>577546caca13eb049f334d27</td>\n",
       "      <td>reject</td>\n",
       "      <td>{'IAP': 'false', 'ISG_PBS_Price': 'Normal', 'I...</td>\n",
       "      <td>82</td>\n",
       "      <td>{'$date': {'$numberLong': '1489517101224'}}</td>\n",
       "      <td>2</td>\n",
       "    </tr>\n",
       "  </tbody>\n",
       "</table>\n",
       "</div>"
      ],
      "text/plain": [
       "      HCost                                   _id  adOption  \\\n",
       "9995      5  {'$oid': '58c83a27c1a7ac04b07f389c'}         0   \n",
       "9996      6  {'$oid': '58c83a27569af004b7768190'}         0   \n",
       "9997      5  {'$oid': '58c83a27c1a7ac04b07f47ac'}         0   \n",
       "9998      5  {'$oid': '58c83a2a569af004b7768c13'}         0   \n",
       "9999      5  {'$oid': '58c83a2d0759d804b2f444ae'}         0   \n",
       "\n",
       "                            cohort  daysSinceInstall  hasEnoughCoin  \\\n",
       "9995  {'day': 433.0, 'week': 61.0}               1.0              0   \n",
       "9996  {'day': 325.0, 'week': 46.0}             109.0              1   \n",
       "9997  {'day': 434.0, 'week': 62.0}               0.0              1   \n",
       "9998  {'day': 434.0, 'week': 62.0}               0.0              1   \n",
       "9999  {'day': 177.0, 'week': 25.0}             257.0              0   \n",
       "\n",
       "                               hcl levelMode  levelNumber  numFails  \\\n",
       "9995    {'Casual': 40, 'Ninja': 3}     Ninja            4         1   \n",
       "9996  {'Casual': 158, 'Ninja': 11}    Casual          159         4   \n",
       "9997                {'Casual': 18}    Casual           19         1   \n",
       "9998                {'Casual': 12}    Casual           13         2   \n",
       "9999   {'Casual': 109, 'Ninja': 2}    Casual          110         2   \n",
       "\n",
       "     offerReason  percentageLeft platform  playTime                  playerId  \\\n",
       "9995  Percentage               6      IOS        15  58c6978829b38504b5d51c40   \n",
       "9996  Percentage               4      IOS        34  583808ffbb89a50524b0c7da   \n",
       "9997  Percentage              10      IOS        17  58c7de3e0759d804b24702f6   \n",
       "9998  Percentage               7  Android        18  58c8376c569af004b76979d6   \n",
       "9999   LevelTime              14      IOS        39  577546caca13eb049f334d27   \n",
       "\n",
       "      result                                           segments  sessions  \\\n",
       "9995  reject  {'IAP': 'false', 'ISG_PBS_Price': 'Normal', 'I...        18   \n",
       "9996  reject  {'IAP': 'false', 'ISG_PBS_Price': 'High', 'ISG...       139   \n",
       "9997  reject  {'IAP': 'false', 'ISG_PBS_Price': 'Normal', 'I...         3   \n",
       "9998  reject  {'IAP': 'false', 'ISG_PBS_Price': 'Normal', 'I...         1   \n",
       "9999  reject  {'IAP': 'false', 'ISG_PBS_Price': 'Normal', 'I...        82   \n",
       "\n",
       "                                               ts  twentileLeft  \n",
       "9995  {'$date': {'$numberLong': '1489517095206'}}             1  \n",
       "9996  {'$date': {'$numberLong': '1489517095543'}}             0  \n",
       "9997  {'$date': {'$numberLong': '1489517095899'}}             2  \n",
       "9998  {'$date': {'$numberLong': '1489517098049'}}             1  \n",
       "9999  {'$date': {'$numberLong': '1489517101224'}}             2  "
      ]
     },
     "execution_count": 84,
     "metadata": {},
     "output_type": "execute_result"
    }
   ],
   "source": [
    "df_10k.reset_index().drop('index', axis=1).tail()"
   ]
  },
  {
   "cell_type": "markdown",
   "metadata": {},
   "source": [
    "Our dataframe is ready for some feature engineering.\n",
    "\n",
    "I will simply save this data frame as a csv file so I can reuse it later on."
   ]
  },
  {
   "cell_type": "code",
   "execution_count": 90,
   "metadata": {},
   "outputs": [],
   "source": [
    "df_10k.to_csv('data_the_babe/df_10k.csv')"
   ]
  },
  {
   "cell_type": "markdown",
   "metadata": {},
   "source": [
    "Looks like we have a number of nan rows within columns; cohort, daysSinceInstall, hcl and platform.\n",
    "\n",
    "However their ratio is really low. Which means we may feel free to drop some of these rows."
   ]
  },
  {
   "cell_type": "code",
   "execution_count": 92,
   "metadata": {},
   "outputs": [
    {
     "name": "stdout",
     "output_type": "stream",
     "text": [
      "<class 'pandas.core.frame.DataFrame'>\n",
      "Int64Index: 10000 entries, 0 to 499\n",
      "Data columns (total 20 columns):\n",
      "HCost               10000 non-null int64\n",
      "_id                 10000 non-null object\n",
      "adOption            10000 non-null int64\n",
      "cohort              9986 non-null object\n",
      "daysSinceInstall    9986 non-null float64\n",
      "hasEnoughCoin       10000 non-null int64\n",
      "hcl                 9942 non-null object\n",
      "levelMode           10000 non-null object\n",
      "levelNumber         10000 non-null int64\n",
      "numFails            10000 non-null int64\n",
      "offerReason         10000 non-null object\n",
      "percentageLeft      10000 non-null int64\n",
      "platform            9978 non-null object\n",
      "playTime            10000 non-null int64\n",
      "playerId            10000 non-null object\n",
      "result              10000 non-null object\n",
      "segments            10000 non-null object\n",
      "sessions            10000 non-null int64\n",
      "ts                  10000 non-null object\n",
      "twentileLeft        10000 non-null int64\n",
      "dtypes: float64(1), int64(9), object(10)\n",
      "memory usage: 1.9+ MB\n"
     ]
    }
   ],
   "source": [
    "df_10k.info()"
   ]
  },
  {
   "cell_type": "markdown",
   "metadata": {},
   "source": [
    "***Summary***\n",
    "\n",
    "- Within ipynb file called open_them_up, we loaded json 20 of the ~2000 data json files. \n",
    "- Converted json files to pandas data frames with a for loop.\n",
    "- Concatenated these data frames to create a (10k,20) data frame(to play a little before things get even more fun).\n",
    "- Highlighted some points to consider about feature engineering\n",
    "(parse dictionaries , fill or drop nan values, fix object type information, hash user_ids)\n",
    "\n"
   ]
  },
  {
   "cell_type": "markdown",
   "metadata": {},
   "source": [
    "The following code creates the dataframe with almost 1 million rows. "
   ]
  },
  {
   "cell_type": "code",
   "execution_count": 37,
   "metadata": {},
   "outputs": [],
   "source": [
    "frames_to_concat = []\n",
    "for i in range(0, 1945):  \n",
    "    frames_to_concat.append(pd.read_json(f'data_the_babe/saveme_data/save_me_offer_logs_{str(i)}.json'))\n",
    "\n",
    "df_1m = pd.concat(frames_to_concat)"
   ]
  },
  {
   "cell_type": "markdown",
   "metadata": {},
   "source": [
    "Saves it."
   ]
  },
  {
   "cell_type": "code",
   "execution_count": 38,
   "metadata": {},
   "outputs": [],
   "source": [
    "df_1m.to_csv('data_the_babe/df_1m.csv')"
   ]
  },
  {
   "cell_type": "code",
   "execution_count": null,
   "metadata": {},
   "outputs": [],
   "source": []
  }
 ],
 "metadata": {
  "kernelspec": {
   "display_name": "Python 3",
   "language": "python",
   "name": "python3"
  },
  "language_info": {
   "codemirror_mode": {
    "name": "ipython",
    "version": 3
   },
   "file_extension": ".py",
   "mimetype": "text/x-python",
   "name": "python",
   "nbconvert_exporter": "python",
   "pygments_lexer": "ipython3",
   "version": "3.6.3"
  }
 },
 "nbformat": 4,
 "nbformat_minor": 2
}
