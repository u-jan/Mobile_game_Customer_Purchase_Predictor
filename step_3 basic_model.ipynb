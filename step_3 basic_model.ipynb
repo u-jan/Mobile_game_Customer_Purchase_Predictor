{
 "cells": [
  {
   "cell_type": "markdown",
   "metadata": {},
   "source": [
    "### STEP 3: Basic Model\n",
    "\n",
    "With this notebook my goal is to build a basic model just to see how a logistic model performs within couple of features."
   ]
  },
  {
   "cell_type": "code",
   "execution_count": 54,
   "metadata": {},
   "outputs": [],
   "source": [
    "import pandas as pd\n",
    "import numpy as np\n",
    "import matplotlib.pyplot as plt\n",
    "from sklearn.model_selection import train_test_split\n",
    "from sklearn import preprocessing\n",
    "import matplotlib.pyplot as plt \n",
    "plt.rc(\"font\", size=14)\n",
    "from sklearn.linear_model import LogisticRegression\n",
    "from sklearn.cross_validation import train_test_split\n",
    "import seaborn as sns\n",
    "sns.set(style=\"white\")\n",
    "sns.set(style=\"whitegrid\", color_codes=True)"
   ]
  },
  {
   "cell_type": "code",
   "execution_count": 55,
   "metadata": {},
   "outputs": [],
   "source": [
    "df_1m = pd.read_csv('data_the_babe/df_1m_ready_for_model.csv')"
   ]
  },
  {
   "cell_type": "code",
   "execution_count": 5,
   "metadata": {},
   "outputs": [
    {
     "name": "stdout",
     "output_type": "stream",
     "text": [
      "Unnamed: 0\n",
      "Unnamed: 0.1\n",
      "Unnamed: 0.1.1\n",
      "_id\n",
      "adOption\n",
      "daysSinceInstall\n",
      "hasEnoughCoin\n",
      "levelMode\n",
      "levelNumber\n",
      "numFails\n",
      "percentageLeft\n",
      "platform\n",
      "playTime\n",
      "playerId\n",
      "sessions\n",
      "ts\n",
      "twentileLeft\n",
      "target\n",
      "4\n",
      "5\n",
      "6\n",
      "w0\n",
      "w10\n",
      "w20\n",
      "w30\n",
      "w40\n",
      "w50\n",
      "w60\n",
      "casual_mode\n",
      "alternative_mode\n",
      "event_mode\n",
      "BoosterUsed\n",
      "LevelTime\n",
      "Percentage\n",
      "AD\n",
      "AE\n",
      "AF\n",
      "AG\n",
      "AL\n",
      "AM\n",
      "AO\n",
      "AP\n",
      "AR\n",
      "AS\n",
      "AT\n",
      "AU\n",
      "AW\n",
      "AX\n",
      "AZ\n",
      "BA\n",
      "BB\n",
      "BD\n",
      "BE\n",
      "BG\n",
      "BH\n",
      "BM\n",
      "BN\n",
      "BO\n",
      "BR\n",
      "BS\n",
      "BY\n",
      "BZ\n",
      "CA\n",
      "CD\n",
      "CH\n",
      "CI\n",
      "CL\n",
      "CN\n",
      "CO\n",
      "CR\n",
      "CW\n",
      "CY\n",
      "CZ\n",
      "DE\n",
      "DK\n",
      "DO\n",
      "DZ\n",
      "EC\n",
      "EE\n",
      "EG\n",
      "ES\n",
      "ET\n",
      "EU\n",
      "FI\n",
      "FM\n",
      "FO\n",
      "FR\n",
      "GB\n",
      "GD\n",
      "GE\n",
      "GH\n",
      "GI\n",
      "GL\n",
      "GM\n",
      "GN\n",
      "GR\n",
      "GT\n",
      "GU\n",
      "GY\n",
      "HK\n",
      "HN\n",
      "HR\n",
      "HT\n",
      "HU\n",
      "ID\n",
      "IE\n",
      "IL\n",
      "IN\n",
      "IQ\n",
      "IR\n",
      "IS\n",
      "IT\n",
      "JE\n",
      "JM\n",
      "JO\n",
      "JP\n",
      "KE\n",
      "KG\n",
      "KH\n",
      "KN\n",
      "KR\n",
      "KW\n",
      "KZ\n",
      "LA\n",
      "LB\n",
      "LK\n",
      "LT\n",
      "LU\n",
      "LV\n",
      "LY\n",
      "MA\n",
      "MD\n",
      "ME\n",
      "MK\n",
      "ML\n",
      "MM\n",
      "MN\n",
      "MO\n",
      "MP\n",
      "MQ\n",
      "MR\n",
      "MT\n",
      "MU\n",
      "MV\n",
      "MW\n",
      "MX\n",
      "MY\n",
      "NC\n",
      "NG\n",
      "NI\n",
      "NL\n",
      "NO\n",
      "NP\n",
      "NZ\n",
      "OM\n",
      "PA\n",
      "PE\n",
      "PF\n",
      "PG\n",
      "PH\n",
      "PK\n",
      "PL\n",
      "PR\n",
      "PS\n",
      "PT\n",
      "PY\n",
      "QA\n",
      "RE\n",
      "RO\n",
      "RS\n",
      "RU\n",
      "SA\n",
      "SC\n",
      "SD\n",
      "SE\n",
      "SG\n",
      "SI\n",
      "SK\n",
      "SN\n",
      "SV\n",
      "SY\n",
      "TH\n",
      "TJ\n",
      "TM\n",
      "TN\n",
      "TR\n",
      "TT\n",
      "TW\n",
      "TZ\n",
      "UA\n",
      "UG\n",
      "US\n",
      "UY\n",
      "UZ\n",
      "VE\n",
      "VN\n",
      "YE\n",
      "ZA\n",
      "ZW\n",
      "Unknown\n",
      "de\n",
      "en\n",
      "es\n",
      "fr\n",
      "it\n",
      "pt-BR\n",
      "ru\n",
      "tr\n",
      "zh-CN\n"
     ]
    }
   ],
   "source": [
    "for col in df_1m.columns:\n",
    "    print(col)   #pass"
   ]
  },
  {
   "cell_type": "code",
   "execution_count": 5,
   "metadata": {},
   "outputs": [],
   "source": [
    "df = df_1m.copy()"
   ]
  },
  {
   "cell_type": "markdown",
   "metadata": {},
   "source": [
    "My recent goal is to create a basic logistic regression model with only two independent features. Then we will engineer the relavant features one by one in order to built on our MVP.\n",
    "\n",
    "There are more diligent ways to proceed with nan values instead of simply dropping them, yet for sake of just creating a basic model I am confident to drop only 1% of the data."
   ]
  },
  {
   "cell_type": "code",
   "execution_count": 88,
   "metadata": {},
   "outputs": [
    {
     "name": "stdout",
     "output_type": "stream",
     "text": [
      "We proceed with: 0.9907 of the data. Haters gona hate...\n"
     ]
    }
   ],
   "source": [
    "print('We proceed with:',9907/10000,'of the data. Haters gona hate...')"
   ]
  },
  {
   "cell_type": "markdown",
   "metadata": {},
   "source": [
    "I prefer to include following features to reach target column called 'result' where watching adds or using ingame currency are considered as success(1) whereas rejection is failure(0).\n",
    "- Hcost\n",
    "- hasEnoughCoin\n",
    "\n",
    "Interpretation of the such logistic regression gives us the probability of a player to watch adds or use currency gives that they have enough coin or not with consideration of the cost of progress."
   ]
  },
  {
   "cell_type": "markdown",
   "metadata": {},
   "source": [
    "generating features(X1,X2) and target(y);"
   ]
  },
  {
   "cell_type": "code",
   "execution_count": 6,
   "metadata": {},
   "outputs": [],
   "source": [
    "df_basic = df_1m[['platform','hasEnoughCoin','target','Unnamed: 0','Unnamed: 0.1','Unnamed: 0.1.1','_id']].copy()"
   ]
  },
  {
   "cell_type": "code",
   "execution_count": 7,
   "metadata": {},
   "outputs": [
    {
     "data": {
      "text/html": [
       "<div>\n",
       "<style>\n",
       "    .dataframe thead tr:only-child th {\n",
       "        text-align: right;\n",
       "    }\n",
       "\n",
       "    .dataframe thead th {\n",
       "        text-align: left;\n",
       "    }\n",
       "\n",
       "    .dataframe tbody tr th {\n",
       "        vertical-align: top;\n",
       "    }\n",
       "</style>\n",
       "<table border=\"1\" class=\"dataframe\">\n",
       "  <thead>\n",
       "    <tr style=\"text-align: right;\">\n",
       "      <th></th>\n",
       "      <th>platform</th>\n",
       "      <th>hasEnoughCoin</th>\n",
       "      <th>target</th>\n",
       "    </tr>\n",
       "  </thead>\n",
       "  <tbody>\n",
       "    <tr>\n",
       "      <th>0</th>\n",
       "      <td>1</td>\n",
       "      <td>1</td>\n",
       "      <td>False</td>\n",
       "    </tr>\n",
       "    <tr>\n",
       "      <th>1</th>\n",
       "      <td>1</td>\n",
       "      <td>1</td>\n",
       "      <td>False</td>\n",
       "    </tr>\n",
       "    <tr>\n",
       "      <th>2</th>\n",
       "      <td>1</td>\n",
       "      <td>1</td>\n",
       "      <td>False</td>\n",
       "    </tr>\n",
       "    <tr>\n",
       "      <th>3</th>\n",
       "      <td>1</td>\n",
       "      <td>1</td>\n",
       "      <td>False</td>\n",
       "    </tr>\n",
       "    <tr>\n",
       "      <th>4</th>\n",
       "      <td>1</td>\n",
       "      <td>0</td>\n",
       "      <td>False</td>\n",
       "    </tr>\n",
       "  </tbody>\n",
       "</table>\n",
       "</div>"
      ],
      "text/plain": [
       "   platform  hasEnoughCoin  target\n",
       "0         1              1   False\n",
       "1         1              1   False\n",
       "2         1              1   False\n",
       "3         1              1   False\n",
       "4         1              0   False"
      ]
     },
     "execution_count": 7,
     "metadata": {},
     "output_type": "execute_result"
    }
   ],
   "source": [
    "df_basic.head()"
   ]
  },
  {
   "cell_type": "markdown",
   "metadata": {},
   "source": [
    "Some minor feature engineering:\n",
    "- HCost --> dummy variables.\n",
    "- hasEnoughCoin --> status quo as bool\n",
    "- result --> if 'reject' 0, else 1 --> ***find a better way for improved model***"
   ]
  },
  {
   "cell_type": "markdown",
   "metadata": {},
   "source": [
    "Following function which gets dummies for given df and columns."
   ]
  },
  {
   "cell_type": "code",
   "execution_count": 91,
   "metadata": {},
   "outputs": [],
   "source": [
    "def one_hot_dummy(input_df, columns):\n",
    "    df_hot = input_df.copy()\n",
    "\n",
    "    for col in columns:\n",
    "        dummies = pd.get_dummies(df_hot[col])\n",
    "#         dummies.drop(dummies.columns[-1], axis=1, inplace=True)  --> not my tempo\n",
    "        df_hot = df_hot.drop(col, axis=1).merge(dummies, left_index=True, right_index=True)\n",
    "    \n",
    "    return df_hot"
   ]
  },
  {
   "cell_type": "code",
   "execution_count": 92,
   "metadata": {},
   "outputs": [],
   "source": [
    "df_basic = one_hot_dummy(df_basic,['HCost'])"
   ]
  },
  {
   "cell_type": "markdown",
   "metadata": {},
   "source": [
    "Now we have dummies. Would you like to know why? Check following --> https://www.moresteam.com/whitepapers/download/dummy-variables.pdf"
   ]
  },
  {
   "cell_type": "code",
   "execution_count": 93,
   "metadata": {},
   "outputs": [
    {
     "data": {
      "text/html": [
       "<div>\n",
       "<style>\n",
       "    .dataframe thead tr:only-child th {\n",
       "        text-align: right;\n",
       "    }\n",
       "\n",
       "    .dataframe thead th {\n",
       "        text-align: left;\n",
       "    }\n",
       "\n",
       "    .dataframe tbody tr th {\n",
       "        vertical-align: top;\n",
       "    }\n",
       "</style>\n",
       "<table border=\"1\" class=\"dataframe\">\n",
       "  <thead>\n",
       "    <tr style=\"text-align: right;\">\n",
       "      <th></th>\n",
       "      <th>hasEnoughCoin</th>\n",
       "      <th>result</th>\n",
       "      <th>4</th>\n",
       "      <th>5</th>\n",
       "      <th>6</th>\n",
       "    </tr>\n",
       "  </thead>\n",
       "  <tbody>\n",
       "    <tr>\n",
       "      <th>0</th>\n",
       "      <td>1</td>\n",
       "      <td>reject</td>\n",
       "      <td>1</td>\n",
       "      <td>0</td>\n",
       "      <td>0</td>\n",
       "    </tr>\n",
       "    <tr>\n",
       "      <th>1</th>\n",
       "      <td>1</td>\n",
       "      <td>reject</td>\n",
       "      <td>1</td>\n",
       "      <td>0</td>\n",
       "      <td>0</td>\n",
       "    </tr>\n",
       "    <tr>\n",
       "      <th>2</th>\n",
       "      <td>1</td>\n",
       "      <td>reject</td>\n",
       "      <td>0</td>\n",
       "      <td>0</td>\n",
       "      <td>1</td>\n",
       "    </tr>\n",
       "    <tr>\n",
       "      <th>3</th>\n",
       "      <td>1</td>\n",
       "      <td>reject</td>\n",
       "      <td>1</td>\n",
       "      <td>0</td>\n",
       "      <td>0</td>\n",
       "    </tr>\n",
       "    <tr>\n",
       "      <th>4</th>\n",
       "      <td>0</td>\n",
       "      <td>reject</td>\n",
       "      <td>0</td>\n",
       "      <td>0</td>\n",
       "      <td>1</td>\n",
       "    </tr>\n",
       "  </tbody>\n",
       "</table>\n",
       "</div>"
      ],
      "text/plain": [
       "   hasEnoughCoin  result  4  5  6\n",
       "0              1  reject  1  0  0\n",
       "1              1  reject  1  0  0\n",
       "2              1  reject  0  0  1\n",
       "3              1  reject  1  0  0\n",
       "4              0  reject  0  0  1"
      ]
     },
     "execution_count": 93,
     "metadata": {},
     "output_type": "execute_result"
    }
   ],
   "source": [
    "df_basic.head()"
   ]
  },
  {
   "cell_type": "code",
   "execution_count": 94,
   "metadata": {},
   "outputs": [
    {
     "data": {
      "text/plain": [
       "array(['reject', 'bought', 'adWatch'], dtype=object)"
      ]
     },
     "execution_count": 94,
     "metadata": {},
     "output_type": "execute_result"
    }
   ],
   "source": [
    "df_basic['result'].unique()"
   ]
  },
  {
   "cell_type": "markdown",
   "metadata": {},
   "source": [
    "Following function fixes target."
   ]
  },
  {
   "cell_type": "code",
   "execution_count": 95,
   "metadata": {},
   "outputs": [],
   "source": [
    "def fix_target(y):\n",
    "    if y == 'reject':\n",
    "        return 0\n",
    "    else:\n",
    "        return 1\n",
    "\n",
    "df_basic['result'] = df_basic['result'].map(fix_target)"
   ]
  },
  {
   "cell_type": "code",
   "execution_count": 96,
   "metadata": {},
   "outputs": [
    {
     "data": {
      "text/html": [
       "<div>\n",
       "<style>\n",
       "    .dataframe thead tr:only-child th {\n",
       "        text-align: right;\n",
       "    }\n",
       "\n",
       "    .dataframe thead th {\n",
       "        text-align: left;\n",
       "    }\n",
       "\n",
       "    .dataframe tbody tr th {\n",
       "        vertical-align: top;\n",
       "    }\n",
       "</style>\n",
       "<table border=\"1\" class=\"dataframe\">\n",
       "  <thead>\n",
       "    <tr style=\"text-align: right;\">\n",
       "      <th></th>\n",
       "      <th>hasEnoughCoin</th>\n",
       "      <th>result</th>\n",
       "      <th>4</th>\n",
       "      <th>5</th>\n",
       "      <th>6</th>\n",
       "    </tr>\n",
       "  </thead>\n",
       "  <tbody>\n",
       "    <tr>\n",
       "      <th>0</th>\n",
       "      <td>1</td>\n",
       "      <td>0</td>\n",
       "      <td>1</td>\n",
       "      <td>0</td>\n",
       "      <td>0</td>\n",
       "    </tr>\n",
       "    <tr>\n",
       "      <th>1</th>\n",
       "      <td>1</td>\n",
       "      <td>0</td>\n",
       "      <td>1</td>\n",
       "      <td>0</td>\n",
       "      <td>0</td>\n",
       "    </tr>\n",
       "    <tr>\n",
       "      <th>2</th>\n",
       "      <td>1</td>\n",
       "      <td>0</td>\n",
       "      <td>0</td>\n",
       "      <td>0</td>\n",
       "      <td>1</td>\n",
       "    </tr>\n",
       "    <tr>\n",
       "      <th>3</th>\n",
       "      <td>1</td>\n",
       "      <td>0</td>\n",
       "      <td>1</td>\n",
       "      <td>0</td>\n",
       "      <td>0</td>\n",
       "    </tr>\n",
       "    <tr>\n",
       "      <th>4</th>\n",
       "      <td>0</td>\n",
       "      <td>0</td>\n",
       "      <td>0</td>\n",
       "      <td>0</td>\n",
       "      <td>1</td>\n",
       "    </tr>\n",
       "  </tbody>\n",
       "</table>\n",
       "</div>"
      ],
      "text/plain": [
       "   hasEnoughCoin  result  4  5  6\n",
       "0              1       0  1  0  0\n",
       "1              1       0  1  0  0\n",
       "2              1       0  0  0  1\n",
       "3              1       0  1  0  0\n",
       "4              0       0  0  0  1"
      ]
     },
     "execution_count": 96,
     "metadata": {},
     "output_type": "execute_result"
    }
   ],
   "source": [
    "df_basic.head()"
   ]
  },
  {
   "cell_type": "markdown",
   "metadata": {},
   "source": [
    "Looks like the basic_df to create dummy model is ready for train test split.\n",
    "\n",
    "(1) Assign target and features, (2) split them"
   ]
  },
  {
   "cell_type": "code",
   "execution_count": 45,
   "metadata": {},
   "outputs": [],
   "source": [
    "y = df_1m['target']\n",
    "X = df_1m.drop(['target','ts','Unnamed: 0','Unnamed: 0.1','Unnamed: 0.1.1','_id'],axis=1)"
   ]
  },
  {
   "cell_type": "code",
   "execution_count": 33,
   "metadata": {},
   "outputs": [],
   "source": [
    "success_ratio = min(y.value_counts()) / len(y)\n",
    "failure_ratio = max(y.value_counts()) / len(y)"
   ]
  },
  {
   "cell_type": "code",
   "execution_count": 46,
   "metadata": {},
   "outputs": [
    {
     "data": {
      "image/png": "[encoded data removed]",
      "text/plain": [
       "<Figure size 432x288 with 1 Axes>"
      ]
     },
     "metadata": {},
     "output_type": "display_data"
    },
    {
     "name": "stdout",
     "output_type": "stream",
     "text": [
      "0.13552976799445562\n"
     ]
    },
    {
     "data": {
      "text/plain": [
       "<Figure size 432x288 with 0 Axes>"
      ]
     },
     "metadata": {},
     "output_type": "display_data"
    }
   ],
   "source": [
    "sns.countplot(x = 'target', data = df_1m , palette = 'hls')\n",
    "plt.show()\n",
    "plt.savefig('count_target')\n",
    "print(success_ratio)"
   ]
  },
  {
   "cell_type": "code",
   "execution_count": 24,
   "metadata": {},
   "outputs": [
    {
     "data": {
      "text/html": [
       "<div>\n",
       "<style>\n",
       "    .dataframe thead tr:only-child th {\n",
       "        text-align: right;\n",
       "    }\n",
       "\n",
       "    .dataframe thead th {\n",
       "        text-align: left;\n",
       "    }\n",
       "\n",
       "    .dataframe tbody tr th {\n",
       "        vertical-align: top;\n",
       "    }\n",
       "</style>\n",
       "<table border=\"1\" class=\"dataframe\">\n",
       "  <thead>\n",
       "    <tr style=\"text-align: right;\">\n",
       "      <th></th>\n",
       "      <th>platform</th>\n",
       "      <th>hasEnoughCoin</th>\n",
       "    </tr>\n",
       "    <tr>\n",
       "      <th>target</th>\n",
       "      <th></th>\n",
       "      <th></th>\n",
       "    </tr>\n",
       "  </thead>\n",
       "  <tbody>\n",
       "    <tr>\n",
       "      <th>False</th>\n",
       "      <td>0.529961</td>\n",
       "      <td>0.548542</td>\n",
       "    </tr>\n",
       "    <tr>\n",
       "      <th>True</th>\n",
       "      <td>0.508332</td>\n",
       "      <td>0.782641</td>\n",
       "    </tr>\n",
       "  </tbody>\n",
       "</table>\n",
       "</div>"
      ],
      "text/plain": [
       "        platform  hasEnoughCoin\n",
       "target                         \n",
       "False   0.529961       0.548542\n",
       "True    0.508332       0.782641"
      ]
     },
     "execution_count": 24,
     "metadata": {},
     "output_type": "execute_result"
    }
   ],
   "source": [
    "df_basic.groupby('target').mean()"
   ]
  },
  {
   "cell_type": "markdown",
   "metadata": {},
   "source": [
    "Observations on df_basic:\n",
    "- Looks like there is a significance behavioral difference when it comes to hasEnoughCoin.\n",
    "- 13.3 % of the times there was an offer company increased its revenue.\n",
    "- hasEnoughCoin have some correlation with result whereas the ingame currency cost of progress is insignificant. "
   ]
  },
  {
   "cell_type": "code",
   "execution_count": 48,
   "metadata": {},
   "outputs": [],
   "source": [
    "# from sklearn.model_selection import train_test_split\n",
    "X_train, X_test, y_train, y_test = train_test_split(X, y, test_size=0.25, random_state=916)"
   ]
  },
  {
   "cell_type": "markdown",
   "metadata": {},
   "source": [
    "***Model Implementation***"
   ]
  },
  {
   "cell_type": "code",
   "execution_count": 14,
   "metadata": {},
   "outputs": [
    {
     "name": "stderr",
     "output_type": "stream",
     "text": [
      "/anaconda3/lib/python3.6/site-packages/statsmodels/compat/pandas.py:56: FutureWarning: The pandas.core.datetools module is deprecated and will be removed in a future version. Please use the pandas.tseries module instead.\n",
      "  from pandas.core import datetools\n"
     ]
    },
    {
     "name": "stdout",
     "output_type": "stream",
     "text": [
      "Optimization terminated successfully.\n",
      "         Current function value: 0.501830\n",
      "         Iterations 6\n",
      "                          Results: Logit\n",
      "==================================================================\n",
      "Model:              Logit            Pseudo R-squared: -0.265     \n",
      "Dependent Variable: target           AIC:              652034.6784\n",
      "Date:               2018-11-14 09:30 BIC:              652057.4468\n",
      "No. Observations:   649653           Log-Likelihood:   -3.2602e+05\n",
      "Df Model:           1                LL-Null:          -2.5770e+05\n",
      "Df Residuals:       649651           LLR p-value:      1.0000     \n",
      "Converged:          1.0000           Scale:            1.0000     \n",
      "No. Iterations:     6.0000                                        \n",
      "------------------------------------------------------------------\n",
      "                  Coef.  Std.Err.     z     P>|z|   [0.025  0.975]\n",
      "------------------------------------------------------------------\n",
      "platform         -1.4432   0.0055 -261.9801 0.0000 -1.4540 -1.4325\n",
      "hasEnoughCoin    -0.8918   0.0047 -190.2006 0.0000 -0.9010 -0.8826\n",
      "==================================================================\n",
      "\n"
     ]
    }
   ],
   "source": [
    "import statsmodels.api as sm\n",
    "log_model = sm.Logit(y_train, X_train)\n",
    "result = log_model.fit()\n",
    "print(result.summary2())"
   ]
  },
  {
   "cell_type": "markdown",
   "metadata": {},
   "source": [
    "P-values are all smaller than the significance level 0.05, therefore keep them all. "
   ]
  },
  {
   "cell_type": "code",
   "execution_count": 16,
   "metadata": {},
   "outputs": [
    {
     "data": {
      "text/plain": [
       "0.13547693922755685"
      ]
     },
     "execution_count": 16,
     "metadata": {},
     "output_type": "execute_result"
    }
   ],
   "source": [
    "y_train.mean()"
   ]
  },
  {
   "cell_type": "code",
   "execution_count": 17,
   "metadata": {},
   "outputs": [],
   "source": [
    "y_pred = Logreg.predict(X_test.values)"
   ]
  },
  {
   "cell_type": "code",
   "execution_count": 18,
   "metadata": {},
   "outputs": [
    {
     "data": {
      "text/plain": [
       "array([[276578,      0],\n",
       "       [ 43401,      0]])"
      ]
     },
     "execution_count": 18,
     "metadata": {},
     "output_type": "execute_result"
    }
   ],
   "source": [
    "from sklearn.metrics import confusion_matrix\n",
    "confusion_matrix = confusion_matrix(y_test, y_pred)\n",
    "confusion_matrix"
   ]
  },
  {
   "cell_type": "code",
   "execution_count": 19,
   "metadata": {},
   "outputs": [],
   "source": [
    "from sklearn.metrics import classification_report"
   ]
  },
  {
   "cell_type": "code",
   "execution_count": 20,
   "metadata": {},
   "outputs": [
    {
     "name": "stdout",
     "output_type": "stream",
     "text": [
      "             precision    recall  f1-score   support\n",
      "\n",
      "      False       0.86      1.00      0.93    276578\n",
      "       True       0.00      0.00      0.00     43401\n",
      "\n",
      "avg / total       0.75      0.86      0.80    319979\n",
      "\n"
     ]
    },
    {
     "name": "stderr",
     "output_type": "stream",
     "text": [
      "/anaconda3/lib/python3.6/site-packages/sklearn/metrics/classification.py:1135: UndefinedMetricWarning: Precision and F-score are ill-defined and being set to 0.0 in labels with no predicted samples.\n",
      "  'precision', 'predicted', average, warn_for)\n"
     ]
    }
   ],
   "source": [
    "print(classification_report(y_test , y_pred))"
   ]
  },
  {
   "cell_type": "markdown",
   "metadata": {},
   "source": [
    "80% f1 score which is a weighted average combination of precision and recall sounds good.\n",
    "\n",
    "***WRONG!*** \n",
    "\n",
    "Check the scores for False and True predictions. The model simply predicted that each offer will end up with false result. In other words the model does not predict any True due to unbalanced data. \n",
    "\n",
    "And why does the average precision,recall and f1 scores seem to be high although the model is useless at the moment?\n",
    "\n",
    "In accordance to actual data with the combined target, the success ratio(True) is 13.5%, which means the failure ratio(False) is 86.5%. Consequently when model simply predicts negative for each offer, the predictions are right for 86.5% of the times. Unfortunatelly as mentioned, this does not mean model is usefull.\n",
    "\n",
    "Now lets create an MVP and try to find ways to lighten symtoms of unbalanced data.\n",
    "\n",
    "As a reminder we merged adwatch and bought as our target within this model."
   ]
  },
  {
   "cell_type": "code",
   "execution_count": null,
   "metadata": {},
   "outputs": [],
   "source": []
  }
 ],
 "metadata": {
  "kernelspec": {
   "display_name": "Python 3",
   "language": "python",
   "name": "python3"
  },
  "language_info": {
   "codemirror_mode": {
    "name": "ipython",
    "version": 3
   },
   "file_extension": ".py",
   "mimetype": "text/x-python",
   "name": "python",
   "nbconvert_exporter": "python",
   "pygments_lexer": "ipython3",
   "version": "3.6.3"
  }
 },
 "nbformat": 4,
 "nbformat_minor": 2
}
