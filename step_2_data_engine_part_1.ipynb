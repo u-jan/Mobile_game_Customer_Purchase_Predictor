{
 "cells": [
  {
   "cell_type": "markdown",
   "metadata": {},
   "source": [
    "### Step 2: Understanding the data\n",
    "\n",
    "This page is allocated for understanding the data.\n",
    "\n",
    "We will go through each feature to see nan values, outliers, and significance of information.\n",
    "\n",
    "Upon that we will clean the data feature by feature at a time.\n"
   ]
  },
  {
   "cell_type": "code",
   "execution_count": 2,
   "metadata": {},
   "outputs": [],
   "source": [
    "import pandas as pd\n",
    "import numpy as np\n",
    "import matplotlib.pyplot as plt\n",
    "from sklearn.model_selection import train_test_split\n",
    "from sklearn.linear_model import LogisticRegression"
   ]
  },
  {
   "cell_type": "markdown",
   "metadata": {},
   "source": [
    "Following peace of code will load csv file called df_10k."
   ]
  },
  {
   "cell_type": "code",
   "execution_count": 3,
   "metadata": {},
   "outputs": [],
   "source": [
    "df_10k = pd.read_csv('data_the_babe/df_10k.csv')"
   ]
  },
  {
   "cell_type": "code",
   "execution_count": 43,
   "metadata": {},
   "outputs": [
    {
     "data": {
      "text/plain": [
       "(10000, 21)"
      ]
     },
     "execution_count": 43,
     "metadata": {},
     "output_type": "execute_result"
    }
   ],
   "source": [
    "df_10k.shape"
   ]
  },
  {
   "cell_type": "code",
   "execution_count": 44,
   "metadata": {},
   "outputs": [
    {
     "data": {
      "text/plain": [
       "Index(['Unnamed: 0', 'HCost', '_id', 'adOption', 'cohort', 'daysSinceInstall',\n",
       "       'hasEnoughCoin', 'hcl', 'levelMode', 'levelNumber', 'numFails',\n",
       "       'offerReason', 'percentageLeft', 'platform', 'playTime', 'playerId',\n",
       "       'result', 'segments', 'sessions', 'ts', 'twentileLeft'],\n",
       "      dtype='object')"
      ]
     },
     "execution_count": 44,
     "metadata": {},
     "output_type": "execute_result"
    }
   ],
   "source": [
    "df_10k.columns"
   ]
  },
  {
   "cell_type": "markdown",
   "metadata": {},
   "source": [
    "***Hcost***"
   ]
  },
  {
   "cell_type": "code",
   "execution_count": 5,
   "metadata": {},
   "outputs": [
    {
     "data": {
      "text/plain": [
       "array([4, 6, 5])"
      ]
     },
     "execution_count": 5,
     "metadata": {},
     "output_type": "execute_result"
    }
   ],
   "source": [
    "df_10k['HCost'].unique()"
   ]
  },
  {
   "cell_type": "code",
   "execution_count": 6,
   "metadata": {},
   "outputs": [
    {
     "data": {
      "text/plain": [
       "5    3686\n",
       "4    3289\n",
       "6    3025\n",
       "Name: HCost, dtype: int64"
      ]
     },
     "execution_count": 6,
     "metadata": {},
     "output_type": "execute_result"
    }
   ],
   "source": [
    "df_10k['HCost'].value_counts()"
   ]
  },
  {
   "cell_type": "code",
   "execution_count": 7,
   "metadata": {},
   "outputs": [
    {
     "data": {
      "text/plain": [
       "<matplotlib.axes._subplots.AxesSubplot at 0x10bda6e10>"
      ]
     },
     "execution_count": 7,
     "metadata": {},
     "output_type": "execute_result"
    },
    {
     "data": {
      "image/png": "[encoded data removed]",
      "text/plain": [
       "<Figure size 432x288 with 1 Axes>"
      ]
     },
     "metadata": {
      "needs_background": "light"
     },
     "output_type": "display_data"
    }
   ],
   "source": [
    "df_10k['HCost'].hist()"
   ]
  },
  {
   "cell_type": "markdown",
   "metadata": {},
   "source": [
    "Info:\n",
    "- Hcost stands for number of ingame currency demanded to continue playing, upon failure.\n",
    "\n",
    "Conclusion:\n",
    "- Create dummy variables because there are only 3 options.\n",
    "\n",
    "Assumptions and expectations:\n",
    "Number of coins to spend can be a very important feature. Certainly we will see if thats the case but I\n",
    "expect a negative correlation between probability of using coins and number of demanded coins to continue.\n",
    "\n",
    "Oh! Yet who knows! Maybe customers buying a lot of coins are more likely to spend them due to their higher disposable income which stands for positive correlation."
   ]
  },
  {
   "cell_type": "markdown",
   "metadata": {},
   "source": [
    "***_id***"
   ]
  },
  {
   "cell_type": "code",
   "execution_count": 8,
   "metadata": {},
   "outputs": [
    {
     "data": {
      "text/plain": [
       "10000"
      ]
     },
     "execution_count": 8,
     "metadata": {},
     "output_type": "execute_result"
    }
   ],
   "source": [
    "len(df_10k['_id'].unique())"
   ]
  },
  {
   "cell_type": "code",
   "execution_count": 9,
   "metadata": {},
   "outputs": [
    {
     "data": {
      "text/plain": [
       "10000"
      ]
     },
     "execution_count": 9,
     "metadata": {},
     "output_type": "execute_result"
    }
   ],
   "source": [
    "len(df_10k['_id'].value_counts()) #Looks like each id is unique"
   ]
  },
  {
   "cell_type": "markdown",
   "metadata": {},
   "source": [
    "Info: _id stands for the id number of the offer. Each number is unique(randomly generated).\n",
    "\n",
    "Conclusion: This column does not give us any information about the buyer behavior. Therefore it will be better to simply drop it."
   ]
  },
  {
   "cell_type": "markdown",
   "metadata": {},
   "source": [
    "***adOption***"
   ]
  },
  {
   "cell_type": "code",
   "execution_count": 4,
   "metadata": {},
   "outputs": [
    {
     "data": {
      "text/plain": [
       "0"
      ]
     },
     "execution_count": 4,
     "metadata": {},
     "output_type": "execute_result"
    }
   ],
   "source": [
    "df_10k['adOption'][0]"
   ]
  },
  {
   "cell_type": "code",
   "execution_count": 11,
   "metadata": {},
   "outputs": [
    {
     "data": {
      "text/plain": [
       "array([0, 1])"
      ]
     },
     "execution_count": 11,
     "metadata": {},
     "output_type": "execute_result"
    }
   ],
   "source": [
    "df_10k['adOption'].unique()"
   ]
  },
  {
   "cell_type": "code",
   "execution_count": 12,
   "metadata": {},
   "outputs": [
    {
     "data": {
      "text/plain": [
       "0    7965\n",
       "1    2035\n",
       "Name: adOption, dtype: int64"
      ]
     },
     "execution_count": 12,
     "metadata": {},
     "output_type": "execute_result"
    }
   ],
   "source": [
    "df_10k['adOption'].value_counts()"
   ]
  },
  {
   "cell_type": "code",
   "execution_count": 13,
   "metadata": {},
   "outputs": [
    {
     "data": {
      "text/plain": [
       "<matplotlib.axes._subplots.AxesSubplot at 0x10ca6a048>"
      ]
     },
     "execution_count": 13,
     "metadata": {},
     "output_type": "execute_result"
    },
    {
     "data": {
      "image/png": "[encoded data removed]",
      "text/plain": [
       "<Figure size 432x288 with 1 Axes>"
      ]
     },
     "metadata": {
      "needs_background": "light"
     },
     "output_type": "display_data"
    }
   ],
   "source": [
    "df_10k['adOption'].hist()"
   ]
  },
  {
   "cell_type": "markdown",
   "metadata": {},
   "source": [
    "Info: adOption tells us if the adOption is included in the offer or not.\n",
    "\n",
    "Conclusion: The feature is already boolean. There is no need for data engineering fot this one."
   ]
  },
  {
   "cell_type": "markdown",
   "metadata": {},
   "source": [
    "***cohort***"
   ]
  },
  {
   "cell_type": "code",
   "execution_count": 14,
   "metadata": {},
   "outputs": [
    {
     "data": {
      "text/plain": [
       "\"{'day': 424.0, 'week': 60.0}\""
      ]
     },
     "execution_count": 14,
     "metadata": {},
     "output_type": "execute_result"
    }
   ],
   "source": [
    "df_10k['cohort'][0]"
   ]
  },
  {
   "cell_type": "code",
   "execution_count": 15,
   "metadata": {},
   "outputs": [
    {
     "data": {
      "text/plain": [
       "str"
      ]
     },
     "execution_count": 15,
     "metadata": {},
     "output_type": "execute_result"
    }
   ],
   "source": [
    "type(df_10k['cohort'][0])"
   ]
  },
  {
   "cell_type": "code",
   "execution_count": 16,
   "metadata": {},
   "outputs": [
    {
     "data": {
      "text/plain": [
       "338"
      ]
     },
     "execution_count": 16,
     "metadata": {},
     "output_type": "execute_result"
    }
   ],
   "source": [
    "len(df_10k['cohort'].unique())"
   ]
  },
  {
   "cell_type": "code",
   "execution_count": 66,
   "metadata": {},
   "outputs": [
    {
     "data": {
      "text/plain": [
       "{'day': 434.0, 'week': 62.0}    1982\n",
       "{'day': 433.0, 'week': 61.0}     863\n",
       "Name: cohort, dtype: int64"
      ]
     },
     "execution_count": 66,
     "metadata": {},
     "output_type": "execute_result"
    }
   ],
   "source": [
    "df_10k['cohort'].value_counts().head(2)"
   ]
  },
  {
   "cell_type": "code",
   "execution_count": 76,
   "metadata": {},
   "outputs": [
    {
     "data": {
      "text/plain": [
       "False"
      ]
     },
     "execution_count": 76,
     "metadata": {},
     "output_type": "execute_result"
    }
   ],
   "source": [
    "('week' in df_10k['cohort'])"
   ]
  },
  {
   "cell_type": "code",
   "execution_count": 19,
   "metadata": {},
   "outputs": [
    {
     "data": {
      "text/plain": [
       "<matplotlib.axes._subplots.AxesSubplot at 0x10d1f1b00>"
      ]
     },
     "execution_count": 19,
     "metadata": {},
     "output_type": "execute_result"
    },
    {
     "data": {
      "image/png": "[encoded data removed]",
      "text/plain": [
       "<Figure size 432x288 with 1 Axes>"
      ]
     },
     "metadata": {
      "needs_background": "light"
     },
     "output_type": "display_data"
    }
   ],
   "source": [
    "df_10k['cohort'].value_counts().hist()"
   ]
  },
  {
   "cell_type": "markdown",
   "metadata": {},
   "source": [
    "info: I need more information about the methadology of collecting cohort information. The two recent assumptions I have about it is (1) They allocated each person before week 62 to week 62 (2) They released the game at week62 and they had a lot of people playing it within the week.\n",
    "\n",
    "The weeks are descending through the timeline. In other words week 62 stands for 62 weeks before in timeline.\n",
    "\n",
    "Conclusion: Have a meeting with the engineer who collected the data in order to find ways to effectively use week 62 within the analisis. I do not want to drop the columns corresponding to week 62 becauase it corresponds to 20% of whole data on average.\n",
    "\n"
   ]
  },
  {
   "cell_type": "markdown",
   "metadata": {},
   "source": [
    "***daysSinceInstall***"
   ]
  },
  {
   "cell_type": "code",
   "execution_count": 20,
   "metadata": {},
   "outputs": [
    {
     "data": {
      "text/plain": [
       "10.0"
      ]
     },
     "execution_count": 20,
     "metadata": {},
     "output_type": "execute_result"
    }
   ],
   "source": [
    "df_10k['daysSinceInstall'][0]"
   ]
  },
  {
   "cell_type": "code",
   "execution_count": 21,
   "metadata": {},
   "outputs": [
    {
     "data": {
      "text/plain": [
       "numpy.float64"
      ]
     },
     "execution_count": 21,
     "metadata": {},
     "output_type": "execute_result"
    }
   ],
   "source": [
    "type(df_10k['daysSinceInstall'][0])"
   ]
  },
  {
   "cell_type": "code",
   "execution_count": 22,
   "metadata": {},
   "outputs": [
    {
     "data": {
      "text/plain": [
       "350"
      ]
     },
     "execution_count": 22,
     "metadata": {},
     "output_type": "execute_result"
    }
   ],
   "source": [
    "len(df_10k['daysSinceInstall'].unique())"
   ]
  },
  {
   "cell_type": "code",
   "execution_count": 23,
   "metadata": {},
   "outputs": [
    {
     "data": {
      "text/plain": [
       "0.0    2344\n",
       "1.0     734\n",
       "2.0     661\n",
       "3.0     342\n",
       "5.0     210\n",
       "Name: daysSinceInstall, dtype: int64"
      ]
     },
     "execution_count": 23,
     "metadata": {},
     "output_type": "execute_result"
    }
   ],
   "source": [
    "df_10k['daysSinceInstall'].value_counts().head()"
   ]
  },
  {
   "cell_type": "code",
   "execution_count": 24,
   "metadata": {},
   "outputs": [
    {
     "data": {
      "text/plain": [
       "<matplotlib.axes._subplots.AxesSubplot at 0x10d6f1860>"
      ]
     },
     "execution_count": 24,
     "metadata": {},
     "output_type": "execute_result"
    },
    {
     "data": {
      "image/png": "[encoded data removed]",
      "text/plain": [
       "<Figure size 432x288 with 1 Axes>"
      ]
     },
     "metadata": {
      "needs_background": "light"
     },
     "output_type": "display_data"
    }
   ],
   "source": [
    "df_10k['daysSinceInstall'].hist()"
   ]
  },
  {
   "cell_type": "markdown",
   "metadata": {},
   "source": [
    "Info: Days since install can be a very important predictor for buy, watch add and  churn decisions.\n",
    "\n",
    "Conclusion: Slightly more than 20% of the dataponts are corresponding to day 0. Before moving forward I need to learn whether day 0 stands for the release day of the game or the first day the company began collecting data. Following that I am thinking about grouping days since install within different timeframes to create dummmy variables for each dummy variable."
   ]
  },
  {
   "cell_type": "markdown",
   "metadata": {},
   "source": [
    "***hasEnoughCoin***"
   ]
  },
  {
   "cell_type": "code",
   "execution_count": 25,
   "metadata": {},
   "outputs": [
    {
     "data": {
      "text/plain": [
       "1"
      ]
     },
     "execution_count": 25,
     "metadata": {},
     "output_type": "execute_result"
    }
   ],
   "source": [
    "df_10k['hasEnoughCoin'][0]"
   ]
  },
  {
   "cell_type": "code",
   "execution_count": 26,
   "metadata": {},
   "outputs": [
    {
     "data": {
      "text/plain": [
       "numpy.int64"
      ]
     },
     "execution_count": 26,
     "metadata": {},
     "output_type": "execute_result"
    }
   ],
   "source": [
    "type(df_10k['hasEnoughCoin'][0])"
   ]
  },
  {
   "cell_type": "code",
   "execution_count": 27,
   "metadata": {},
   "outputs": [
    {
     "data": {
      "text/plain": [
       "array([1, 0])"
      ]
     },
     "execution_count": 27,
     "metadata": {},
     "output_type": "execute_result"
    }
   ],
   "source": [
    "df_10k['hasEnoughCoin'].unique()"
   ]
  },
  {
   "cell_type": "code",
   "execution_count": 28,
   "metadata": {},
   "outputs": [
    {
     "data": {
      "text/plain": [
       "1    5789\n",
       "0    4211\n",
       "Name: hasEnoughCoin, dtype: int64"
      ]
     },
     "execution_count": 28,
     "metadata": {},
     "output_type": "execute_result"
    }
   ],
   "source": [
    "df_10k['hasEnoughCoin'].value_counts()"
   ]
  },
  {
   "cell_type": "code",
   "execution_count": 29,
   "metadata": {},
   "outputs": [
    {
     "data": {
      "text/plain": [
       "<matplotlib.axes._subplots.AxesSubplot at 0x10d820588>"
      ]
     },
     "execution_count": 29,
     "metadata": {},
     "output_type": "execute_result"
    },
    {
     "data": {
      "image/png": "[encoded data removed]",
      "text/plain": [
       "<Figure size 432x288 with 1 Axes>"
      ]
     },
     "metadata": {
      "needs_background": "light"
     },
     "output_type": "display_data"
    }
   ],
   "source": [
    "df_10k['hasEnoughCoin'].hist()"
   ]
  },
  {
   "cell_type": "markdown",
   "metadata": {},
   "source": [
    "info: hasEnoughCoin column states if a player has enough coins to proceed or not. If they do not have enough will need to buy more to proceed.Thus such column stands for a very important indicator for the profit curve.\n",
    "\n",
    "Conclusion: Keep it as binary and definetly this column as an important feature.\n",
    "\n",
    "***Important Question:*** Is there any way to see if players bought more coin with real life currency. Do we have suffficient data about it?\n",
    "Also ask about the ways to buy more coin."
   ]
  },
  {
   "cell_type": "markdown",
   "metadata": {},
   "source": [
    "***hcl***"
   ]
  },
  {
   "cell_type": "code",
   "execution_count": 30,
   "metadata": {},
   "outputs": [
    {
     "data": {
      "text/plain": [
       "\"{'Casual': 162, 'Ninja': 65}\""
      ]
     },
     "execution_count": 30,
     "metadata": {},
     "output_type": "execute_result"
    }
   ],
   "source": [
    "df_10k['hcl'][0]"
   ]
  },
  {
   "cell_type": "code",
   "execution_count": 31,
   "metadata": {},
   "outputs": [
    {
     "data": {
      "text/plain": [
       "str"
      ]
     },
     "execution_count": 31,
     "metadata": {},
     "output_type": "execute_result"
    }
   ],
   "source": [
    "type(df_10k['hcl'][0])   #really? a string but not a dictionary? really?!"
   ]
  },
  {
   "cell_type": "code",
   "execution_count": 32,
   "metadata": {},
   "outputs": [
    {
     "data": {
      "text/plain": [
       "(10000,)"
      ]
     },
     "execution_count": 32,
     "metadata": {},
     "output_type": "execute_result"
    }
   ],
   "source": [
    "df_10k['hcl'].shape"
   ]
  },
  {
   "cell_type": "code",
   "execution_count": 33,
   "metadata": {},
   "outputs": [
    {
     "data": {
      "text/plain": [
       "str"
      ]
     },
     "execution_count": 33,
     "metadata": {},
     "output_type": "execute_result"
    }
   ],
   "source": [
    "type(df_10k['hcl'][9999])"
   ]
  },
  {
   "cell_type": "code",
   "execution_count": 34,
   "metadata": {},
   "outputs": [
    {
     "data": {
      "text/plain": [
       "\"{'Casual': 109, 'Ninja': 2}\""
      ]
     },
     "execution_count": 34,
     "metadata": {},
     "output_type": "execute_result"
    }
   ],
   "source": [
    "df_10k['hcl'][9999]"
   ]
  },
  {
   "cell_type": "code",
   "execution_count": 35,
   "metadata": {},
   "outputs": [
    {
     "data": {
      "text/plain": [
       "{'Casual': 25}    323\n",
       "{'Casual': 11}    187\n",
       "{'Casual': 7}     154\n",
       "{'Casual': 13}    148\n",
       "{'Casual': 30}    147\n",
       "Name: hcl, dtype: int64"
      ]
     },
     "execution_count": 35,
     "metadata": {},
     "output_type": "execute_result"
    }
   ],
   "source": [
    "df_10k['hcl'].value_counts().head()"
   ]
  },
  {
   "cell_type": "code",
   "execution_count": 36,
   "metadata": {},
   "outputs": [
    {
     "data": {
      "text/plain": [
       "{'Casual': 40, 'Ninja': 188}                           1\n",
       "{'Casual': 335, 'Ninja': 40}                           1\n",
       "{'Casual': 338, 'Ninja': 12}                           1\n",
       "{'Casual': 191, 'Ninja': 148, 'Weekly_3_Casual': 1}    1\n",
       "{'Casual': 110, 'Ninja': 46}                           1\n",
       "Name: hcl, dtype: int64"
      ]
     },
     "execution_count": 36,
     "metadata": {},
     "output_type": "execute_result"
    }
   ],
   "source": [
    "df_10k['hcl'].value_counts().tail()"
   ]
  },
  {
   "cell_type": "code",
   "execution_count": 37,
   "metadata": {},
   "outputs": [
    {
     "data": {
      "text/plain": [
       "{'Casual': 57, 'Ninja': 4}                                                         1\n",
       "{'Casual': 225}                                                                    1\n",
       "{'Casual': 318, 'Ninja': 333, 'NewYear_2017_Casual': 30, 'Weekly_5_Casual': 15}    1\n",
       "{'Casual': 41, 'Ninja': 10}                                                        1\n",
       "{'Casual': 340, 'Ninja': 148}                                                      1\n",
       "{'Casual': 279, 'Ninja': 40}                                                       1\n",
       "{'Casual': 74, 'Ninja': 42}                                                        1\n",
       "{'Casual': 138, 'Ninja': 253}                                                      1\n",
       "{'Casual': 86, 'Ninja': 18}                                                        1\n",
       "{'Casual': 279, 'Ninja': 337, 'Weekly_5_Casual': 15}                               1\n",
       "{'Casual': 42, 'Ninja': 29}                                                        1\n",
       "{'Casual': 325, 'Ninja': 154}                                                      1\n",
       "{'Casual': 152, 'Ninja': 52}                                                       1\n",
       "{'Casual': 322, 'Ninja': 333, 'NewYear_2017_Casual': 30, 'Weekly_5_Casual': 15}    1\n",
       "{'Casual': 187, 'Ninja': 63}                                                       1\n",
       "{'Casual': 340, 'Weekly_3_Casual': 9, 'Ninja': 90}                                 1\n",
       "{'Casual': 298, 'Ninja': 144, 'Weekly_3_Casual': 15}                               1\n",
       "{'Casual': 99, 'Ninja': 25}                                                        1\n",
       "{'Casual': 174, 'Ninja': 106, 'Weekly_1_Casual': 10, 'Weekly_2_Casual': 15}        1\n",
       "{'Casual': 132, 'Ninja': 51, 'Weekly_1_Casual': 3, 'Weekly_2_Casual': 1}           1\n",
       "{'Casual': 40, 'Ninja': 188}                                                       1\n",
       "{'Casual': 335, 'Ninja': 40}                                                       1\n",
       "{'Casual': 338, 'Ninja': 12}                                                       1\n",
       "{'Casual': 191, 'Ninja': 148, 'Weekly_3_Casual': 1}                                1\n",
       "{'Casual': 110, 'Ninja': 46}                                                       1\n",
       "Name: hcl, dtype: int64"
      ]
     },
     "execution_count": 37,
     "metadata": {},
     "output_type": "execute_result"
    }
   ],
   "source": [
    "df_10k['hcl'].value_counts().tail(25)"
   ]
  },
  {
   "cell_type": "code",
   "execution_count": 38,
   "metadata": {},
   "outputs": [
    {
     "data": {
      "text/plain": [
       "<matplotlib.axes._subplots.AxesSubplot at 0x116132128>"
      ]
     },
     "execution_count": 38,
     "metadata": {},
     "output_type": "execute_result"
    },
    {
     "data": {
      "image/png": "[encoded data removed]",
      "text/plain": [
       "<Figure size 432x288 with 1 Axes>"
      ]
     },
     "metadata": {
      "needs_background": "light"
     },
     "output_type": "display_data"
    }
   ],
   "source": [
    "df_10k['hcl'].value_counts().hist()"
   ]
  },
  {
   "cell_type": "markdown",
   "metadata": {},
   "source": [
    "info: data engineering for this column requires delicate thoughts due to the way it is structured. It looks like a dctionary but it is a string. Other than that the game mode is included only if a player activated the mode. Modes such as weekly are seperated within week_1,2,3... Eyeballing; most common modes are causal and ninja. \n",
    "\n",
    "\n",
    "conclusion: \n",
    "create dummy variable for game modes other than causal and ninja. (new year and weekly --> lets see if people who plays different modes use more coins or not)\n",
    "For both ninja and causal keep the data but create additionak columns for both. Consider converting these strings to dict, which may ease data engineering.\n",
    "Also change name of the column to game_type_count from hcl."
   ]
  },
  {
   "cell_type": "code",
   "execution_count": 46,
   "metadata": {},
   "outputs": [
    {
     "data": {
      "text/plain": [
       "\"{'Casual': 162, 'Ninja': 65}\""
      ]
     },
     "execution_count": 46,
     "metadata": {},
     "output_type": "execute_result"
    }
   ],
   "source": [
    "#reminder\n",
    "dict_conversion_test = df_10k['hcl'][0]\n",
    "dict_conversion_test"
   ]
  },
  {
   "cell_type": "code",
   "execution_count": 47,
   "metadata": {},
   "outputs": [],
   "source": [
    "#string to dict conversion\n",
    "import json\n",
    "json_acceptable_string = dict_conversion_test.replace(\"'\", \"\\\"\")\n",
    "d = json.loads(json_acceptable_string)"
   ]
  },
  {
   "cell_type": "code",
   "execution_count": 48,
   "metadata": {},
   "outputs": [
    {
     "data": {
      "text/plain": [
       "{'Casual': 162, 'Ninja': 65}"
      ]
     },
     "execution_count": 48,
     "metadata": {},
     "output_type": "execute_result"
    }
   ],
   "source": [
    "d"
   ]
  },
  {
   "cell_type": "markdown",
   "metadata": {},
   "source": [
    "***levelMode***"
   ]
  },
  {
   "cell_type": "code",
   "execution_count": 50,
   "metadata": {},
   "outputs": [
    {
     "data": {
      "text/plain": [
       "0    Casual\n",
       "1    Casual\n",
       "2     Ninja\n",
       "3    Casual\n",
       "4    Casual\n",
       "Name: levelMode, dtype: object"
      ]
     },
     "execution_count": 50,
     "metadata": {},
     "output_type": "execute_result"
    }
   ],
   "source": [
    "df_10k['levelMode'].head()"
   ]
  },
  {
   "cell_type": "code",
   "execution_count": 53,
   "metadata": {},
   "outputs": [
    {
     "data": {
      "text/plain": [
       "array(['Casual', 'Ninja'], dtype=object)"
      ]
     },
     "execution_count": 53,
     "metadata": {},
     "output_type": "execute_result"
    }
   ],
   "source": [
    "df_10k['levelMode'].unique()"
   ]
  },
  {
   "cell_type": "code",
   "execution_count": 56,
   "metadata": {},
   "outputs": [
    {
     "data": {
      "text/plain": [
       "Casual    8565\n",
       "Ninja     1435\n",
       "Name: levelMode, dtype: int64"
      ]
     },
     "execution_count": 56,
     "metadata": {},
     "output_type": "execute_result"
    }
   ],
   "source": [
    "df_10k['levelMode'].value_counts()"
   ]
  },
  {
   "cell_type": "code",
   "execution_count": 3,
   "metadata": {},
   "outputs": [
    {
     "data": {
      "text/plain": [
       "<matplotlib.axes._subplots.AxesSubplot at 0x10889dbe0>"
      ]
     },
     "execution_count": 3,
     "metadata": {},
     "output_type": "execute_result"
    },
    {
     "data": {
      "image/png": "[encoded data removed]",
      "text/plain": [
       "<Figure size 432x288 with 1 Axes>"
      ]
     },
     "metadata": {
      "needs_background": "light"
     },
     "output_type": "display_data"
    }
   ],
   "source": [
    "df_10k['levelMode'].value_counts().hist()"
   ]
  },
  {
   "cell_type": "markdown",
   "metadata": {},
   "source": [
    "***levelNumber***"
   ]
  },
  {
   "cell_type": "markdown",
   "metadata": {},
   "source": [
    "Info: column levelMode stands for the game mode in which player got the offer.\n",
    "\n",
    "Conclusion: Transform this on to binary or dummy."
   ]
  },
  {
   "cell_type": "code",
   "execution_count": 5,
   "metadata": {},
   "outputs": [
    {
     "data": {
      "text/plain": [
       "0    163\n",
       "1     34\n",
       "2     23\n",
       "3     20\n",
       "4     29\n",
       "Name: levelNumber, dtype: int64"
      ]
     },
     "execution_count": 5,
     "metadata": {},
     "output_type": "execute_result"
    }
   ],
   "source": [
    "df_10k['levelNumber'].head()"
   ]
  },
  {
   "cell_type": "code",
   "execution_count": 12,
   "metadata": {},
   "outputs": [
    {
     "data": {
      "text/plain": [
       "numpy.int64"
      ]
     },
     "execution_count": 12,
     "metadata": {},
     "output_type": "execute_result"
    }
   ],
   "source": [
    "type(df_10k['levelNumber'][0])"
   ]
  },
  {
   "cell_type": "code",
   "execution_count": 7,
   "metadata": {},
   "outputs": [
    {
     "data": {
      "text/plain": [
       "12    217\n",
       "4     178\n",
       "14    171\n",
       "31    169\n",
       "30    167\n",
       "Name: levelNumber, dtype: int64"
      ]
     },
     "execution_count": 7,
     "metadata": {},
     "output_type": "execute_result"
    }
   ],
   "source": [
    "df_10k['levelNumber'].value_counts().head()"
   ]
  },
  {
   "cell_type": "code",
   "execution_count": 8,
   "metadata": {},
   "outputs": [
    {
     "data": {
      "text/plain": [
       "333"
      ]
     },
     "execution_count": 8,
     "metadata": {},
     "output_type": "execute_result"
    }
   ],
   "source": [
    "len(df_10k['levelNumber'].unique())"
   ]
  },
  {
   "cell_type": "code",
   "execution_count": 10,
   "metadata": {},
   "outputs": [
    {
     "data": {
      "text/plain": [
       "<matplotlib.axes._subplots.AxesSubplot at 0x109db1ef0>"
      ]
     },
     "execution_count": 10,
     "metadata": {},
     "output_type": "execute_result"
    },
    {
     "data": {
      "image/png": "[encoded data removed]",
      "text/plain": [
       "<Figure size 432x288 with 1 Axes>"
      ]
     },
     "metadata": {
      "needs_background": "light"
     },
     "output_type": "display_data"
    }
   ],
   "source": [
    "df_10k['levelNumber'].hist(bins = len(df_10k['levelNumber'].value_counts()))"
   ]
  },
  {
   "cell_type": "markdown",
   "metadata": {},
   "source": [
    "info: column levelNumber stands for the level number in which player got the offer. A very valuable feature which may be a effective indicator to find out which levels are more challanging so players fail more. If they keep failing they are more likely to get an offeer for that level, more they fail more impatient they become which will probably  increase chances of spending in_game_currency.\n",
    "\n",
    "Conclusion: Keep it as an integer and run the model in status quo for this column."
   ]
  },
  {
   "cell_type": "markdown",
   "metadata": {},
   "source": [
    "***numFails***"
   ]
  },
  {
   "cell_type": "code",
   "execution_count": 13,
   "metadata": {},
   "outputs": [
    {
     "data": {
      "text/plain": [
       "0    2\n",
       "1    2\n",
       "2    1\n",
       "3    2\n",
       "4    6\n",
       "Name: numFails, dtype: int64"
      ]
     },
     "execution_count": 13,
     "metadata": {},
     "output_type": "execute_result"
    }
   ],
   "source": [
    "df_10k['numFails'].head()"
   ]
  },
  {
   "cell_type": "code",
   "execution_count": 14,
   "metadata": {},
   "outputs": [
    {
     "data": {
      "text/plain": [
       "numpy.int64"
      ]
     },
     "execution_count": 14,
     "metadata": {},
     "output_type": "execute_result"
    }
   ],
   "source": [
    "type(df_10k['numFails'][0])"
   ]
  },
  {
   "cell_type": "code",
   "execution_count": 16,
   "metadata": {},
   "outputs": [
    {
     "data": {
      "text/plain": [
       "1    2381\n",
       "2    1691\n",
       "3    1195\n",
       "4     833\n",
       "5     663\n",
       "Name: numFails, dtype: int64"
      ]
     },
     "execution_count": 16,
     "metadata": {},
     "output_type": "execute_result"
    }
   ],
   "source": [
    "df_10k['numFails'].value_counts().head()"
   ]
  },
  {
   "cell_type": "code",
   "execution_count": 28,
   "metadata": {},
   "outputs": [
    {
     "data": {
      "text/plain": [
       "array([  2,   1,   6,   3,  20,   5,  31,   8,  43,   9,   4,  32,  16,\n",
       "        23,  27,  12,  22,  10,  19,  21,   7,  18,  11,  13,  51,  30,\n",
       "        14,  50,  24,  15,  36,  17,  68,  69,  33,  28,  78,  81,  35,\n",
       "        38,  29,  57,  34,  26,  70,  37,  25,  88,  49,  46,  44,  64,\n",
       "        40,  42,  62,  76,  73,  56,  59,  39,  87,  54,  60,  61, 109,\n",
       "       112,  52, 122,  47, 130, 157, 163,  41,  45,  80,  71,  75,  66,\n",
       "        48,  63,  58,  72])"
      ]
     },
     "execution_count": 28,
     "metadata": {},
     "output_type": "execute_result"
    }
   ],
   "source": [
    "df_10k['numFails'].unique()"
   ]
  },
  {
   "cell_type": "code",
   "execution_count": 20,
   "metadata": {},
   "outputs": [
    {
     "data": {
      "text/plain": [
       "<matplotlib.axes._subplots.AxesSubplot at 0x10be566a0>"
      ]
     },
     "execution_count": 20,
     "metadata": {},
     "output_type": "execute_result"
    },
    {
     "data": {
      "image/png": "[encoded data removed]",
      "text/plain": [
       "<Figure size 432x288 with 1 Axes>"
      ]
     },
     "metadata": {
      "needs_background": "light"
     },
     "output_type": "display_data"
    }
   ],
   "source": [
    "df_10k['numFails'].hist()"
   ]
  },
  {
   "cell_type": "markdown",
   "metadata": {},
   "source": [
    "info: numFails column states how many times a player failed before offer generally or for that particular level. ***ASK***\n",
    "conclusion: certainly include this feature in the model as the way it is."
   ]
  },
  {
   "cell_type": "markdown",
   "metadata": {},
   "source": [
    "'offerReason', 'percentageLeft', 'platform', 'playTime', 'playerId',\n",
    "       'result', 'segments', 'sessions', 'ts', 'twentileLeft'],"
   ]
  },
  {
   "cell_type": "markdown",
   "metadata": {},
   "source": [
    "***offerReason***"
   ]
  },
  {
   "cell_type": "code",
   "execution_count": 30,
   "metadata": {},
   "outputs": [
    {
     "data": {
      "text/plain": [
       "0    Percentage\n",
       "1    Percentage\n",
       "2    Percentage\n",
       "3    Percentage\n",
       "4    Percentage\n",
       "Name: offerReason, dtype: object"
      ]
     },
     "execution_count": 30,
     "metadata": {},
     "output_type": "execute_result"
    }
   ],
   "source": [
    "df_10k['offerReason'].head()"
   ]
  },
  {
   "cell_type": "code",
   "execution_count": 31,
   "metadata": {},
   "outputs": [
    {
     "data": {
      "text/plain": [
       "str"
      ]
     },
     "execution_count": 31,
     "metadata": {},
     "output_type": "execute_result"
    }
   ],
   "source": [
    "type(df_10k['offerReason'][0])"
   ]
  },
  {
   "cell_type": "code",
   "execution_count": 32,
   "metadata": {},
   "outputs": [
    {
     "data": {
      "text/plain": [
       "array(['Percentage', 'LevelTime', 'BoosterUsed'], dtype=object)"
      ]
     },
     "execution_count": 32,
     "metadata": {},
     "output_type": "execute_result"
    }
   ],
   "source": [
    "df_10k['offerReason'].unique()"
   ]
  },
  {
   "cell_type": "code",
   "execution_count": 33,
   "metadata": {},
   "outputs": [
    {
     "data": {
      "text/plain": [
       "Percentage     8968\n",
       "LevelTime       891\n",
       "BoosterUsed     141\n",
       "Name: offerReason, dtype: int64"
      ]
     },
     "execution_count": 33,
     "metadata": {},
     "output_type": "execute_result"
    }
   ],
   "source": [
    "df_10k['offerReason'].value_counts()"
   ]
  },
  {
   "cell_type": "code",
   "execution_count": 7,
   "metadata": {},
   "outputs": [
    {
     "data": {
      "text/plain": [
       "<matplotlib.axes._subplots.AxesSubplot at 0x112633f60>"
      ]
     },
     "execution_count": 7,
     "metadata": {},
     "output_type": "execute_result"
    },
    {
     "data": {
      "image/png": "[encoded data removed]",
      "text/plain": [
       "<Figure size 432x288 with 1 Axes>"
      ]
     },
     "metadata": {
      "needs_background": "light"
     },
     "output_type": "display_data"
    }
   ],
   "source": [
    "df_10k['offerReason'].value_counts().hist()"
   ]
  },
  {
   "cell_type": "markdown",
   "metadata": {},
   "source": [
    "info: offerReason stads for the driving force behind the offer.\n",
    "- Percentage --> the player was almost completed the level\n",
    "- LevelTime --> the player spent a lot of time in this level.\n",
    "- BoosterUsed --> the player already used some source of Boost(if they invested in this level they may try again upon failure).\n",
    "\n",
    "Conclusion: Create dummy variables for each of the optuons which will signify the correltion between customer decisons."
   ]
  },
  {
   "cell_type": "markdown",
   "metadata": {},
   "source": [
    "***percentageLeft***"
   ]
  },
  {
   "cell_type": "code",
   "execution_count": 9,
   "metadata": {},
   "outputs": [
    {
     "data": {
      "text/plain": [
       "0     0\n",
       "1     3\n",
       "2     4\n",
       "3    38\n",
       "4     3\n",
       "Name: percentageLeft, dtype: int64"
      ]
     },
     "execution_count": 9,
     "metadata": {},
     "output_type": "execute_result"
    }
   ],
   "source": [
    "df_10k['percentageLeft'].head()"
   ]
  },
  {
   "cell_type": "code",
   "execution_count": 13,
   "metadata": {},
   "outputs": [
    {
     "data": {
      "text/plain": [
       "array([  0,   3,   4,  38,   2,   7,  19,   1,   5,   6,   9,  35,   8,\n",
       "        11,  15,  10,  17,  14,  27,  29,  22,  32,  13,  26,  23,  40,\n",
       "        12,  39,  33,  21, 100,  20,  28,  18,  24,  30,  16,  45,  25,\n",
       "        43,  44,  47,  34,  49,  31,  41,  -2,  50,  42,  88,  46,  85,\n",
       "       -11,  37,  48,  71,  36,  -5,  61,  52])"
      ]
     },
     "execution_count": 13,
     "metadata": {},
     "output_type": "execute_result"
    }
   ],
   "source": [
    "df_10k['percentageLeft'].unique()   #negative percentage left?! ASK about the algoritm behind this."
   ]
  },
  {
   "cell_type": "code",
   "execution_count": 15,
   "metadata": {},
   "outputs": [
    {
     "data": {
      "text/plain": [
       "3    1154\n",
       "1    1133\n",
       "4    1129\n",
       "7    1106\n",
       "2    1103\n",
       "Name: percentageLeft, dtype: int64"
      ]
     },
     "execution_count": 15,
     "metadata": {},
     "output_type": "execute_result"
    }
   ],
   "source": [
    "df_10k['percentageLeft'].value_counts().head()"
   ]
  },
  {
   "cell_type": "code",
   "execution_count": 16,
   "metadata": {},
   "outputs": [
    {
     "data": {
      "text/plain": [
       "<matplotlib.axes._subplots.AxesSubplot at 0x112e6a470>"
      ]
     },
     "execution_count": 16,
     "metadata": {},
     "output_type": "execute_result"
    },
    {
     "data": {
      "image/png": "[encoded data removed]",
      "text/plain": [
       "<Figure size 432x288 with 1 Axes>"
      ]
     },
     "metadata": {
      "needs_background": "light"
     },
     "output_type": "display_data"
    }
   ],
   "source": [
    "df_10k['percentageLeft'].hist()"
   ]
  },
  {
   "cell_type": "markdown",
   "metadata": {},
   "source": [
    "info: \n",
    "- Gives us the percentage left at the point player failed. \n",
    "- There are some ***negative values**** \n",
    "-  Could be considered as a highly valuable column unless we already have the reason --> percentage as the triggering factor behidn the offer.\n",
    "yet percentageleft as a reason tells us that the player was almost going to finish the level. I want to see if higher percentage left also leads to offers before I drop this column. \n",
    "\n",
    "conclusion: Include this feature in the model iff there is a correlation between target and high percentage rates."
   ]
  },
  {
   "cell_type": "markdown",
   "metadata": {},
   "source": [
    "***platform***"
   ]
  },
  {
   "cell_type": "code",
   "execution_count": 3,
   "metadata": {},
   "outputs": [
    {
     "data": {
      "text/plain": [
       "0    IOS\n",
       "1    IOS\n",
       "2    IOS\n",
       "3    IOS\n",
       "4    IOS\n",
       "Name: platform, dtype: object"
      ]
     },
     "execution_count": 3,
     "metadata": {},
     "output_type": "execute_result"
    }
   ],
   "source": [
    "df_10k['platform'].head()"
   ]
  },
  {
   "cell_type": "code",
   "execution_count": 6,
   "metadata": {},
   "outputs": [
    {
     "data": {
      "text/plain": [
       "str"
      ]
     },
     "execution_count": 6,
     "metadata": {},
     "output_type": "execute_result"
    }
   ],
   "source": [
    "type(df_10k['platform'][0])  #type looks as if it is string yet dtype states that this is an object. Check the reasoning behind it."
   ]
  },
  {
   "cell_type": "code",
   "execution_count": 8,
   "metadata": {},
   "outputs": [
    {
     "data": {
      "text/plain": [
       "array(['IOS', 'Android', nan], dtype=object)"
      ]
     },
     "execution_count": 8,
     "metadata": {},
     "output_type": "execute_result"
    }
   ],
   "source": [
    "df_10k['platform'].unique()   #Here is the reason folks! We have nan values within this column."
   ]
  },
  {
   "cell_type": "code",
   "execution_count": 9,
   "metadata": {},
   "outputs": [
    {
     "data": {
      "text/plain": [
       "Android    5076\n",
       "IOS        4902\n",
       "Name: platform, dtype: int64"
      ]
     },
     "execution_count": 9,
     "metadata": {},
     "output_type": "execute_result"
    }
   ],
   "source": [
    "df_10k['platform'].value_counts()"
   ]
  },
  {
   "cell_type": "markdown",
   "metadata": {},
   "source": [
    "As a reminder let me demonstrate couple of ways to find out if there are null or nan values in the column."
   ]
  },
  {
   "cell_type": "code",
   "execution_count": 12,
   "metadata": {},
   "outputs": [
    {
     "data": {
      "text/plain": [
       "array([ True, False])"
      ]
     },
     "execution_count": 12,
     "metadata": {},
     "output_type": "execute_result"
    }
   ],
   "source": [
    "#notnull\n",
    "pd.notnull(df_10k['platform']).unique()"
   ]
  },
  {
   "cell_type": "code",
   "execution_count": 15,
   "metadata": {},
   "outputs": [
    {
     "data": {
      "text/plain": [
       "True     9978\n",
       "False      22\n",
       "Name: platform, dtype: int64"
      ]
     },
     "execution_count": 15,
     "metadata": {},
     "output_type": "execute_result"
    }
   ],
   "source": [
    "pd.notnull(df_10k['platform']).value_counts()"
   ]
  },
  {
   "cell_type": "code",
   "execution_count": 18,
   "metadata": {},
   "outputs": [
    {
     "data": {
      "text/plain": [
       "0.00220485067147725"
      ]
     },
     "execution_count": 18,
     "metadata": {},
     "output_type": "execute_result"
    }
   ],
   "source": [
    "22/9978  #only 0.0022 of this column is nan values. ratio is ~50/50 so I will randomly fill half of these nans with ios and rest with android."
   ]
  },
  {
   "cell_type": "code",
   "execution_count": 3,
   "metadata": {},
   "outputs": [
    {
     "data": {
      "text/plain": [
       "<matplotlib.axes._subplots.AxesSubplot at 0x109803b00>"
      ]
     },
     "execution_count": 3,
     "metadata": {},
     "output_type": "execute_result"
    },
    {
     "data": {
      "image/png": "[encoded data removed]",
      "text/plain": [
       "<Figure size 432x288 with 1 Axes>"
      ]
     },
     "metadata": {
      "needs_background": "light"
     },
     "output_type": "display_data"
    }
   ],
   "source": [
    "df_10k['platform'].value_counts().hist()"
   ]
  },
  {
   "cell_type": "markdown",
   "metadata": {},
   "source": [
    "info:\n",
    "- Platform shows if a player uses IOS or Android operating system(respect both please).\n",
    "- I expect this piece of information to be highly critical because the cost of mobile  phones which operates under these systems has a significant difference which is likely to be correlated with disposable income. Regarding common sense, we can be highly confident that expendeture on entertainment industry is positively correlated with dissposable income.\n",
    "\n",
    "Conclusion: create dummy variables or binary to show which players are usig one of the two operating systems within their phone."
   ]
  },
  {
   "cell_type": "markdown",
   "metadata": {},
   "source": [
    "***playTime***"
   ]
  },
  {
   "cell_type": "code",
   "execution_count": 4,
   "metadata": {},
   "outputs": [
    {
     "data": {
      "text/plain": [
       "0    19\n",
       "1    73\n",
       "2    13\n",
       "3    21\n",
       "4    23\n",
       "Name: playTime, dtype: int64"
      ]
     },
     "execution_count": 4,
     "metadata": {},
     "output_type": "execute_result"
    }
   ],
   "source": [
    "df_10k['playTime'].head()"
   ]
  },
  {
   "cell_type": "code",
   "execution_count": 6,
   "metadata": {},
   "outputs": [
    {
     "data": {
      "text/plain": [
       "numpy.int64"
      ]
     },
     "execution_count": 6,
     "metadata": {},
     "output_type": "execute_result"
    }
   ],
   "source": [
    "type(df_10k['playTime'][0])"
   ]
  },
  {
   "cell_type": "code",
   "execution_count": 8,
   "metadata": {},
   "outputs": [
    {
     "data": {
      "text/plain": [
       "238"
      ]
     },
     "execution_count": 8,
     "metadata": {},
     "output_type": "execute_result"
    }
   ],
   "source": [
    "len(df_10k['playTime'].unique())"
   ]
  },
  {
   "cell_type": "code",
   "execution_count": 10,
   "metadata": {},
   "outputs": [
    {
     "data": {
      "text/plain": [
       "24    199\n",
       "34    198\n",
       "29    197\n",
       "28    196\n",
       "32    195\n",
       "Name: playTime, dtype: int64"
      ]
     },
     "execution_count": 10,
     "metadata": {},
     "output_type": "execute_result"
    }
   ],
   "source": [
    "df_10k['playTime'].value_counts().head()"
   ]
  },
  {
   "cell_type": "code",
   "execution_count": 11,
   "metadata": {},
   "outputs": [
    {
     "data": {
      "text/plain": [
       "<matplotlib.axes._subplots.AxesSubplot at 0x10a3eb320>"
      ]
     },
     "execution_count": 11,
     "metadata": {},
     "output_type": "execute_result"
    },
    {
     "data": {
      "image/png": "[encoded data removed]",
      "text/plain": [
       "<Figure size 432x288 with 1 Axes>"
      ]
     },
     "metadata": {
      "needs_background": "light"
     },
     "output_type": "display_data"
    }
   ],
   "source": [
    "df_10k['playTime'].hist()"
   ]
  },
  {
   "cell_type": "markdown",
   "metadata": {},
   "source": [
    "info:\n",
    "- ***Not*** sure if this stands for the total playtime of player or the playtime in level. I believe this should be playtime for the level in which player got an offer. If that is the case I will raise the same argument that I raised for the percentageLeft since we have this column's information for higher playTimes in column called offereason.\n",
    "\n",
    "conclusion:\n",
    "-find if there is a correlation between low playtime with the player behaviour when it comes to decisions."
   ]
  },
  {
   "cell_type": "markdown",
   "metadata": {},
   "source": [
    "***playerId***"
   ]
  },
  {
   "cell_type": "code",
   "execution_count": 12,
   "metadata": {},
   "outputs": [
    {
     "data": {
      "text/plain": [
       "0    58bac635569af004b035b6cb\n",
       "1    58c7b5d9c1a7ac04b08754b6\n",
       "2    58ba6e31569af004b02e51e9\n",
       "3    58c7dda1c1a7ac04b0ff6f33\n",
       "4    58c6d01d29b38504b5a73aa6\n",
       "Name: playerId, dtype: object"
      ]
     },
     "execution_count": 12,
     "metadata": {},
     "output_type": "execute_result"
    }
   ],
   "source": [
    "df_10k['playerId'].head()  #hash this!"
   ]
  },
  {
   "cell_type": "code",
   "execution_count": 15,
   "metadata": {},
   "outputs": [
    {
     "data": {
      "text/plain": [
       "str"
      ]
     },
     "execution_count": 15,
     "metadata": {},
     "output_type": "execute_result"
    }
   ],
   "source": [
    "type(df_10k['playerId'][0])   # aha! we probably have couple of null values. Lets have a look eh? "
   ]
  },
  {
   "cell_type": "code",
   "execution_count": 17,
   "metadata": {},
   "outputs": [
    {
     "data": {
      "text/plain": [
       "True    10000\n",
       "Name: playerId, dtype: int64"
      ]
     },
     "execution_count": 17,
     "metadata": {},
     "output_type": "execute_result"
    }
   ],
   "source": [
    "pd.notnull(df_10k['playerId']).value_counts()"
   ]
  },
  {
   "cell_type": "code",
   "execution_count": 19,
   "metadata": {},
   "outputs": [
    {
     "data": {
      "text/plain": [
       "array([ True])"
      ]
     },
     "execution_count": 19,
     "metadata": {},
     "output_type": "execute_result"
    }
   ],
   "source": [
    "pd.notnull(df_10k['playerId']).unique()  #interesting, I was WRONG. Ask why a complete string column can be classified as object type."
   ]
  },
  {
   "cell_type": "code",
   "execution_count": 22,
   "metadata": {},
   "outputs": [
    {
     "data": {
      "text/plain": [
       "58c7d7ef0759d804b2326927    42\n",
       "56c9ee11e4b04bca08dfd0e2    32\n",
       "58c6c84a29b38504b5855931    28\n",
       "57cc35f5465b6a04838b33eb    25\n",
       "58c805fbc1a7ac04b088f1aa    23\n",
       "58b97b6716330204b3ba181d    22\n",
       "58c818a20759d804b2540357    18\n",
       "575a5e591ac1ff04981f224d    17\n",
       "56cb093ee4b05f81a364e4b9    16\n",
       "57279c660646d104949ae97e    16\n",
       "Name: playerId, dtype: int64"
      ]
     },
     "execution_count": 22,
     "metadata": {},
     "output_type": "execute_result"
    }
   ],
   "source": [
    "df_10k['playerId'].value_counts().head(10)  #Not surprised some players really enjoy this amazing game!"
   ]
  },
  {
   "cell_type": "code",
   "execution_count": 23,
   "metadata": {},
   "outputs": [
    {
     "data": {
      "text/plain": [
       "<matplotlib.axes._subplots.AxesSubplot at 0x10acc5be0>"
      ]
     },
     "execution_count": 23,
     "metadata": {},
     "output_type": "execute_result"
    },
    {
     "data": {
      "image/png": "[encoded data removed]",
      "text/plain": [
       "<Figure size 432x288 with 1 Axes>"
      ]
     },
     "metadata": {
      "needs_background": "light"
     },
     "output_type": "display_data"
    }
   ],
   "source": [
    "df_10k['playerId'].value_counts().hist()"
   ]
  },
  {
   "cell_type": "markdown",
   "metadata": {},
   "source": [
    "info:\n",
    "- playerID stands for number offers each player received. \n",
    "- Highly significant feature.\n",
    "- HASH these ids!!!!!!!!!!!   reminder --> python has a hash function. yeey!"
   ]
  },
  {
   "cell_type": "markdown",
   "metadata": {},
   "source": [
    "***result***"
   ]
  },
  {
   "cell_type": "code",
   "execution_count": 3,
   "metadata": {},
   "outputs": [
    {
     "data": {
      "text/plain": [
       "0    reject\n",
       "1    reject\n",
       "2    reject\n",
       "3    reject\n",
       "4    reject\n",
       "Name: result, dtype: object"
      ]
     },
     "execution_count": 3,
     "metadata": {},
     "output_type": "execute_result"
    }
   ],
   "source": [
    "df_10k['result'].head()"
   ]
  },
  {
   "cell_type": "code",
   "execution_count": 4,
   "metadata": {},
   "outputs": [
    {
     "data": {
      "text/plain": [
       "str"
      ]
     },
     "execution_count": 4,
     "metadata": {},
     "output_type": "execute_result"
    }
   ],
   "source": [
    "type(df_10k['result'][0])"
   ]
  },
  {
   "cell_type": "code",
   "execution_count": 5,
   "metadata": {},
   "outputs": [
    {
     "data": {
      "text/plain": [
       "True    10000\n",
       "Name: result, dtype: int64"
      ]
     },
     "execution_count": 5,
     "metadata": {},
     "output_type": "execute_result"
    }
   ],
   "source": [
    "pd.notnull(df_10k['result']).value_counts()"
   ]
  },
  {
   "cell_type": "code",
   "execution_count": 6,
   "metadata": {},
   "outputs": [
    {
     "data": {
      "text/plain": [
       "array([ True])"
      ]
     },
     "execution_count": 6,
     "metadata": {},
     "output_type": "execute_result"
    }
   ],
   "source": [
    "pd.notnull(df_10k['result']).unique()"
   ]
  },
  {
   "cell_type": "code",
   "execution_count": 7,
   "metadata": {},
   "outputs": [
    {
     "data": {
      "text/plain": [
       "reject     8684\n",
       "bought      676\n",
       "adWatch     640\n",
       "Name: result, dtype: int64"
      ]
     },
     "execution_count": 7,
     "metadata": {},
     "output_type": "execute_result"
    }
   ],
   "source": [
    "df_10k['result'].value_counts()"
   ]
  },
  {
   "cell_type": "code",
   "execution_count": 8,
   "metadata": {},
   "outputs": [
    {
     "data": {
      "text/plain": [
       "array(['reject', 'bought', 'adWatch'], dtype=object)"
      ]
     },
     "execution_count": 8,
     "metadata": {},
     "output_type": "execute_result"
    }
   ],
   "source": [
    "df_10k['result'].unique()"
   ]
  },
  {
   "cell_type": "code",
   "execution_count": 9,
   "metadata": {},
   "outputs": [
    {
     "name": "stdout",
     "output_type": "stream",
     "text": [
      "<class 'str'>\n",
      "<class 'str'>\n",
      "<class 'str'>\n"
     ]
    }
   ],
   "source": [
    "print(type(df_10k['result'].unique()[0]))\n",
    "print(type(df_10k['result'].unique()[1]))\n",
    "print(type(df_10k['result'].unique()[2]))"
   ]
  },
  {
   "cell_type": "code",
   "execution_count": 9,
   "metadata": {},
   "outputs": [
    {
     "data": {
      "text/plain": [
       "<matplotlib.axes._subplots.AxesSubplot at 0x11062ee48>"
      ]
     },
     "execution_count": 9,
     "metadata": {},
     "output_type": "execute_result"
    },
    {
     "data": {
      "image/png": "[encoded data removed]",
      "text/plain": [
       "<Figure size 432x288 with 1 Axes>"
      ]
     },
     "metadata": {
      "needs_background": "light"
     },
     "output_type": "display_data"
    }
   ],
   "source": [
    "df_10k['result'].value_counts().hist()"
   ]
  },
  {
   "cell_type": "markdown",
   "metadata": {},
   "source": [
    "info: \n",
    "- This column shows how the way player reacted to the offer(rejected, bought or watched add).\n",
    "- Certainly this is our target becayse it is a success if player watchs adds or buys spends the coints.\n",
    "\n",
    "Conclusion:\n",
    "- As stated this column is our target yet I am not sure about the way to set is as a target since spending coin or watching adds leads to different revenue generation. \n",
    "\n",
    "***Disscuss this part with your instructors and collegues, also do some research. You need to come up with a confident clarification to this part before Nov 12!!!!***\n",
    "\n",
    "Alternatives\n",
    "- Bool the target\n",
    "- Consider both watching add watch and spend coin options as success and take an average of the revenue generation.\n",
    "- Consider both watching add watch and spend coin options as success and use weighted average of the revenue generation.\n",
    "\n",
    "I think we may miss the actual essence of the target we want to reach if we simply follow the bool option, so find something else. If you fail, go with the bool option. Also, don't fail..."
   ]
  },
  {
   "cell_type": "markdown",
   "metadata": {},
   "source": [
    "***segments***"
   ]
  },
  {
   "cell_type": "code",
   "execution_count": 10,
   "metadata": {},
   "outputs": [
    {
     "data": {
      "text/plain": [
       "0    {'IAP': 'false', 'ISG_PBS_Price': 'Low', 'ISG_...\n",
       "1    {'IAP': 'false', 'ISG_PBS_Price': 'Low', 'ISG_...\n",
       "2    {'IAP': 'false', 'ISG_PBS_Price': 'High', 'ISG...\n",
       "3    {'IAP': 'false', 'ISG_PBS_Price': 'Low', 'ISG_...\n",
       "4    {'IAP': 'false', 'ISG_PBS_Price': 'High', 'ISG...\n",
       "Name: segments, dtype: object"
      ]
     },
     "execution_count": 10,
     "metadata": {},
     "output_type": "execute_result"
    }
   ],
   "source": [
    "df_10k['segments'].head()"
   ]
  },
  {
   "cell_type": "code",
   "execution_count": 11,
   "metadata": {},
   "outputs": [
    {
     "data": {
      "text/plain": [
       "\"{'IAP': 'false', 'ISG_PBS_Price': 'Low', 'ISG_SaveMe_Max_Percentage': 'Mid', 'ISG_EnergyRefill': 'Low', 'Country': 'SA', 'LanguageCode': 'en'}\""
      ]
     },
     "execution_count": 11,
     "metadata": {},
     "output_type": "execute_result"
    }
   ],
   "source": [
    "df_10k['segments'][0]"
   ]
  },
  {
   "cell_type": "code",
   "execution_count": 12,
   "metadata": {},
   "outputs": [
    {
     "data": {
      "text/plain": [
       "str"
      ]
     },
     "execution_count": 12,
     "metadata": {},
     "output_type": "execute_result"
    }
   ],
   "source": [
    "type(df_10k['segments'][0])"
   ]
  },
  {
   "cell_type": "code",
   "execution_count": 18,
   "metadata": {},
   "outputs": [
    {
     "data": {
      "text/plain": [
       "array([ True])"
      ]
     },
     "execution_count": 18,
     "metadata": {},
     "output_type": "execute_result"
    }
   ],
   "source": [
    "pd.notnull(df_10k['segments']).unique()"
   ]
  },
  {
   "cell_type": "code",
   "execution_count": 16,
   "metadata": {},
   "outputs": [
    {
     "data": {
      "text/plain": [
       "<matplotlib.axes._subplots.AxesSubplot at 0x1106d6668>"
      ]
     },
     "execution_count": 16,
     "metadata": {},
     "output_type": "execute_result"
    },
    {
     "data": {
      "image/png": "[encoded data removed]",
      "text/plain": [
       "<Figure size 432x288 with 1 Axes>"
      ]
     },
     "metadata": {
      "needs_background": "light"
     },
     "output_type": "display_data"
    }
   ],
   "source": [
    "df_10k['segments'].value_counts().hist()"
   ]
  },
  {
   "cell_type": "markdown",
   "metadata": {},
   "source": [
    "info:\n",
    "- segments column includes segment information about a variety of different features such as: \n",
    "features: IAP,ISG_PBS_Price,ISG_SaveMe_Max_Percentage,ISG_EnergyRefill,Country,LanguageCode\n",
    "\n",
    "Conclusion:\n",
    "There is a lot of work to do here. I need to create new columns about these features which will then be data engineered once again. \n",
    "Use the syntax to convert strings to dictionary. Then pull the right answers from the dictionary to find if any of the features are important."
   ]
  },
  {
   "cell_type": "markdown",
   "metadata": {},
   "source": [
    "***sessions***"
   ]
  },
  {
   "cell_type": "code",
   "execution_count": 20,
   "metadata": {},
   "outputs": [
    {
     "data": {
      "text/plain": [
       "0    25\n",
       "1     5\n",
       "2    36\n",
       "3     3\n",
       "4     4\n",
       "Name: sessions, dtype: int64"
      ]
     },
     "execution_count": 20,
     "metadata": {},
     "output_type": "execute_result"
    }
   ],
   "source": [
    "df_10k['sessions'].head()"
   ]
  },
  {
   "cell_type": "code",
   "execution_count": 22,
   "metadata": {},
   "outputs": [
    {
     "data": {
      "text/plain": [
       "numpy.int64"
      ]
     },
     "execution_count": 22,
     "metadata": {},
     "output_type": "execute_result"
    }
   ],
   "source": [
    "type(df_10k['sessions'][0])"
   ]
  },
  {
   "cell_type": "code",
   "execution_count": 31,
   "metadata": {},
   "outputs": [
    {
     "data": {
      "text/plain": [
       "1     974\n",
       "2     596\n",
       "3     491\n",
       "4     482\n",
       "6     343\n",
       "5     325\n",
       "7     293\n",
       "8     209\n",
       "9     203\n",
       "11    160\n",
       "Name: sessions, dtype: int64"
      ]
     },
     "execution_count": 31,
     "metadata": {},
     "output_type": "execute_result"
    }
   ],
   "source": [
    "df_10k['sessions'].value_counts().head(10)"
   ]
  },
  {
   "cell_type": "code",
   "execution_count": 28,
   "metadata": {},
   "outputs": [
    {
     "data": {
      "text/plain": [
       "array([False,  True])"
      ]
     },
     "execution_count": 28,
     "metadata": {},
     "output_type": "execute_result"
    }
   ],
   "source": [
    "(df_10k['sessions'] < 0).unique()  # Looks like we have some negative sessions here. Thats a problem to fix."
   ]
  },
  {
   "cell_type": "code",
   "execution_count": 30,
   "metadata": {},
   "outputs": [
    {
     "data": {
      "text/plain": [
       "<matplotlib.axes._subplots.AxesSubplot at 0x1109936d8>"
      ]
     },
     "execution_count": 30,
     "metadata": {},
     "output_type": "execute_result"
    },
    {
     "data": {
      "image/png": "[encoded data removed]",
      "text/plain": [
       "<Figure size 432x288 with 1 Axes>"
      ]
     },
     "metadata": {
      "needs_background": "light"
     },
     "output_type": "display_data"
    }
   ],
   "source": [
    "df_10k['sessions'].value_counts().hist()  # some consiredably high numbers whereas most sessions concentrated between 1 and 100."
   ]
  },
  {
   "cell_type": "markdown",
   "metadata": {},
   "source": [
    "info:\n",
    "- ***not sure*** about what sessions state. Probably stands for the session that the offer is made.\n",
    "\n",
    "Conclusion: \n",
    "- slice sessions within different ranges and create dummy variables for each range."
   ]
  },
  {
   "cell_type": "markdown",
   "metadata": {},
   "source": [
    "***ts =? timeseries****"
   ]
  },
  {
   "cell_type": "code",
   "execution_count": 32,
   "metadata": {},
   "outputs": [
    {
     "data": {
      "text/plain": [
       "0    {'$date': {'$numberLong': '1489505171825'}}\n",
       "1    {'$date': {'$numberLong': '1489505173200'}}\n",
       "2    {'$date': {'$numberLong': '1489505174598'}}\n",
       "3    {'$date': {'$numberLong': '1489505176848'}}\n",
       "4    {'$date': {'$numberLong': '1489505177077'}}\n",
       "Name: ts, dtype: object"
      ]
     },
     "execution_count": 32,
     "metadata": {},
     "output_type": "execute_result"
    }
   ],
   "source": [
    "df_10k['ts'].head()"
   ]
  },
  {
   "cell_type": "code",
   "execution_count": 33,
   "metadata": {},
   "outputs": [
    {
     "data": {
      "text/plain": [
       "str"
      ]
     },
     "execution_count": 33,
     "metadata": {},
     "output_type": "execute_result"
    }
   ],
   "source": [
    "type(df_10k['ts'][0])"
   ]
  },
  {
   "cell_type": "code",
   "execution_count": 35,
   "metadata": {},
   "outputs": [
    {
     "data": {
      "text/plain": [
       "array([False])"
      ]
     },
     "execution_count": 35,
     "metadata": {},
     "output_type": "execute_result"
    }
   ],
   "source": [
    "pd.isnull(df_10k['ts']).unique() "
   ]
  },
  {
   "cell_type": "code",
   "execution_count": 37,
   "metadata": {},
   "outputs": [
    {
     "data": {
      "text/plain": [
       "9987"
      ]
     },
     "execution_count": 37,
     "metadata": {},
     "output_type": "execute_result"
    }
   ],
   "source": [
    " len(df_10k['ts'].unique())  # some duplicates."
   ]
  },
  {
   "cell_type": "code",
   "execution_count": 44,
   "metadata": {},
   "outputs": [
    {
     "data": {
      "text/plain": [
       "array([2, 1])"
      ]
     },
     "execution_count": 44,
     "metadata": {},
     "output_type": "execute_result"
    }
   ],
   "source": [
    "df_10k['ts'].value_counts().unique()"
   ]
  },
  {
   "cell_type": "markdown",
   "metadata": {},
   "source": [
    "info:\n",
    "- Each row includes a dictionary of dictionary which leads to a single string number value ultimately. \n",
    "- There are 13 duplicate dictionaries compared to 9987 unique rows. Luckily such a small ratio.\n",
    "- I need to ***be sure*** about the interpretation of this number. My assumption is this is a the count since 1970.\n",
    "\n",
    "Conclusion:\n",
    "- Pull the number out of both dictionaries and create a new column for the time count.\n",
    "- Transform the count to a more interpretable format such as days or weeks.\n"
   ]
  },
  {
   "cell_type": "markdown",
   "metadata": {},
   "source": [
    "***twentileLeft***"
   ]
  },
  {
   "cell_type": "code",
   "execution_count": 46,
   "metadata": {},
   "outputs": [
    {
     "data": {
      "text/plain": [
       "0    0\n",
       "1    0\n",
       "2    0\n",
       "3    7\n",
       "4    0\n",
       "Name: twentileLeft, dtype: int64"
      ]
     },
     "execution_count": 46,
     "metadata": {},
     "output_type": "execute_result"
    }
   ],
   "source": [
    "df_10k['twentileLeft'].head()"
   ]
  },
  {
   "cell_type": "code",
   "execution_count": 47,
   "metadata": {},
   "outputs": [
    {
     "data": {
      "text/plain": [
       " 0     5194\n",
       " 1     3705\n",
       " 2      579\n",
       " 3      208\n",
       " 4      117\n",
       " 5       67\n",
       " 6       36\n",
       " 8       27\n",
       " 7       27\n",
       " 9       18\n",
       " 20      10\n",
       "-1        4\n",
       " 10       3\n",
       " 17       2\n",
       "-3        1\n",
       " 12       1\n",
       " 14       1\n",
       "Name: twentileLeft, dtype: int64"
      ]
     },
     "execution_count": 47,
     "metadata": {},
     "output_type": "execute_result"
    }
   ],
   "source": [
    "df_10k['twentileLeft']. value_counts()  #some negative values once again."
   ]
  },
  {
   "cell_type": "code",
   "execution_count": 48,
   "metadata": {},
   "outputs": [
    {
     "data": {
      "text/plain": [
       "array([ 0,  7,  1,  3,  2,  5,  4,  6,  8, 20,  9, -1, 10, 17, -3, 14, 12])"
      ]
     },
     "execution_count": 48,
     "metadata": {},
     "output_type": "execute_result"
    }
   ],
   "source": [
    "df_10k['twentileLeft'].unique()"
   ]
  },
  {
   "cell_type": "code",
   "execution_count": 45,
   "metadata": {},
   "outputs": [
    {
     "data": {
      "text/plain": [
       "<matplotlib.axes._subplots.AxesSubplot at 0x110cbd5c0>"
      ]
     },
     "execution_count": 45,
     "metadata": {},
     "output_type": "execute_result"
    },
    {
     "data": {
      "image/png": "[encoded data removed]",
      "text/plain": [
       "<Figure size 432x288 with 1 Axes>"
      ]
     },
     "metadata": {
      "needs_background": "light"
     },
     "output_type": "display_data"
    }
   ],
   "source": [
    "df_10k['twentileLeft'].hist()"
   ]
  },
  {
   "cell_type": "markdown",
   "metadata": {},
   "source": [
    "info:\n",
    "- This is certainly an ingame terminalogy to define the number of twentile's that left at the moment of offer. ***learn it***\n",
    "\n",
    "Conclusion:\n",
    "- Upon learning what twentile stands for (1)create dummy variables for each (2) slice them within different ranges based on the meaning of the terminology. \n",
    "- Se those negative values to 0 or the median of the set."
   ]
  },
  {
   "cell_type": "markdown",
   "metadata": {},
   "source": [
    "***end of step_2_data_engine_part_1***\n",
    "\n",
    "\n",
    "I discussed the pathway to follow about each column. Now it is time to start actual data engineering as I generate transform functions for each case. \n",
    "\n",
    "**To Do**\n",
    "- Play the game in order have a better idea about the features. (yey!)\n",
    "- Call developers and ask your questions about each feature that have a vauge meaning.\n",
    "- Start working on functions and generate a more comprehensive dataframe which will include new features. \n",
    "- reminder : you need to dataengineer segment dictionaries as well and take notes about each feature which will be added to step_2_data_engine_part_1."
   ]
  },
  {
   "cell_type": "code",
   "execution_count": null,
   "metadata": {},
   "outputs": [],
   "source": []
  }
 ],
 "metadata": {
  "kernelspec": {
   "display_name": "Python 3",
   "language": "python",
   "name": "python3"
  },
  "language_info": {
   "codemirror_mode": {
    "name": "ipython",
    "version": 3
   },
   "file_extension": ".py",
   "mimetype": "text/x-python",
   "name": "python",
   "nbconvert_exporter": "python",
   "pygments_lexer": "ipython3",
   "version": "3.6.3"
  }
 },
 "nbformat": 4,
 "nbformat_minor": 2
}
